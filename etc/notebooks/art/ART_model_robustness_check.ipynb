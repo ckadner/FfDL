{
 "cells": [
  {
   "cell_type": "markdown",
   "metadata": {},
   "source": [
    "# Using ART to Generate Adversarial Samples for a Deep Learning Model\n",
    "\n",
    "This notebook shows how to use adversarial attack techniques from *Adversarial Robustness Toolbox* (*ART*) with *FfDL*. The ART library supports crafting and analyzing different attack and defense methods for deep learning models. \n",
    "\n",
    "In this notebook, you will learn how to incorporate one of the attack methods supported by ART, the *Fast Gradient Method* (*FGM*) into your training pipeline to generate adversarial samples for the purposes of evaluating the robustness of the trained model. In particular, the example in this notebook trains a *CNN* model on *MNIST* data and evaluates its robustness. \n",
    "\n",
    "The **ART** Github repository can be found here - https://github.com/IBM/adversarial-robustness-toolbox\n",
    "\n",
    "Some familiarity with Python is helpful. This notebook uses Python 3.\n",
    "\n",
    "\n",
    "## Contents\n",
    "\n",
    "1.\t[Set up the environment](#setup)\n",
    "2.\t[Create a Keras model](#model)\n",
    "3.  [Train the model](#train)\n",
    "4.\t[Generate adversarial samples for a robustness check](#art)\n",
    "5.\t[Summary and next steps](#summary)"
   ]
  },
  {
   "cell_type": "markdown",
   "metadata": {},
   "source": [
    "<a id=\"setup\"></a>\n",
    "## 1. Setup\n",
    "\n",
    "Before you use the sample code in this notebook, you must perform the following setup tasks:\n",
    "\n",
    "- To store model and training data, this notebook requires a [Cloud Object Storage (COS)](https://console.bluemix.net/catalog/services/cloud-object-storage) instance (a *lite plan* is offered and information about how to order storage is [here](https://dataplatform.ibm.com/docs/content/analyze-data/ml_dlaas_object_store.html)).\n",
    "    - After you create COS instance, go to your COS dashboard.\n",
    "    - Get the **Endpoint** tab in the COS instance's dashboard.\n",
    "    - You also need the IBM Cloud authorization endpoint to be able to create COS resource object.\n",
    "    - In the **Service credentials** tab, click **New Credential+**.\n",
    "    - Add the \"[HMAC](https://console.bluemix.net/docs/services/cloud-object-storage/hmac/credentials.html#using-hmac-credentials)\" **inline configuration parameter**: `{\"HMAC\":true}`, click **Add**.\n",
    "\n",
    "    This configuration parameter adds the following section to the instance credentials, (for use later in this notebook):\n",
    "    ```\n",
    "      \"cos_hmac_keys\": {\n",
    "            \"access_key_id\": \"1234567890abcdefghijklmnopqrtsuv\",\n",
    "            \"secret_access_key\": \"0987654321zxywvutsrqponmlkjihgfedcba1234567890ab\"\n",
    "       }\n",
    "    ```\n",
    "\n",
    "- It is recommended that you run this notebook inside a Python virtual environment. Make sure you have all required libraries installed."
   ]
  },
  {
   "cell_type": "markdown",
   "metadata": {},
   "source": [
    "**TODO**: Provide your cluster name and COS credentials"
   ]
  },
  {
   "cell_type": "code",
   "execution_count": null,
   "metadata": {},
   "outputs": [],
   "source": [
    "ffdl_cluster_name          = \"\"  # Name of your Kubernetes cluster with FfDL deployed on it\n",
    "cos_apikey                 = \"\"  # Cloud Object Storage API KEY\n",
    "cos_hmac_access_key_id     = \"\"  # Cloud Object Storage HMAC Access Key ID\n",
    "cos_hmac_secret_access_key = \"\"  # Cloud Object Storage HMAC Secret Access Key\n",
    "cos_resource_instance_id   = \"\"  # Cloud Object Storage Resource Instance ID\n",
    "cos_service_endpoint       = \"\"  # Cloud Object Storage service endpoint, i.e. 'https://s3-api.us-geo.objectstorage.softlayer.net'\n",
    "cos_auth_endpoint          = \"\"  # Cloud Object Storage authorization endpoint, i.e. 'https://iam.bluemix.net/oidc/token' "
   ]
  },
  {
   "cell_type": "markdown",
   "metadata": {},
   "source": [
    "### 1.1. Verify or Install Required Python Libraries"
   ]
  },
  {
   "cell_type": "code",
   "execution_count": 2,
   "metadata": {},
   "outputs": [
    {
     "name": "stderr",
     "output_type": "stream",
     "text": [
      "Using TensorFlow backend.\n"
     ]
    },
    {
     "name": "stdout",
     "output_type": "stream",
     "text": [
      "All required libraries are installed.\n",
      "keras>=2.1.6\r\n",
      "tensorflow>=1.8\r\n",
      "ipython>=5.0.0\r\n",
      "jupyter>=1.0.0\r\n",
      "requests>=2.12.0,<=2.18.4\r\n",
      "wget\r\n",
      "ibm-cos-sdk\r\n",
      "git+git://github.com/IBM/adversarial-robustness-toolbox@master\r\n"
     ]
    }
   ],
   "source": [
    "import sys\n",
    "\n",
    "def is_venv():\n",
    "    return (hasattr(sys, 'real_prefix') or (hasattr(sys, 'base_prefix') and sys.base_prefix != sys.prefix))\n",
    "\n",
    "try:\n",
    "    import keras, tensorflow, requests, wget, ibm_boto3, art\n",
    "    print(\"All required libraries are installed.\")\n",
    "    !cat requirements.txt\n",
    "except ModuleNotFoundError:\n",
    "    if is_venv:\n",
    "        print(\"Installing required libraries into virtual environment.\")\n",
    "        !python -m pip install -r requirements.txt\n",
    "    else:\n",
    "        print(\"Please install the required libraries.\")\n",
    "        !cat requirements.txt"
   ]
  },
  {
   "cell_type": "markdown",
   "metadata": {},
   "source": [
    "### 1.2 Connect to Cloud Object Storage  (COS)"
   ]
  },
  {
   "cell_type": "markdown",
   "metadata": {},
   "source": [
    "Enter your COS credentials in the following cell. You can find these credentials in your COS instance dashboard under the **Service credentials** tab.\n",
    "\n",
    "**Note:** the HMAC key, described in [set up the environment](#setup) is included in these credentials."
   ]
  },
  {
   "cell_type": "code",
   "execution_count": 3,
   "metadata": {},
   "outputs": [],
   "source": [
    "# TODO: load credentials from a file or keep this to make things as obvious as possible\n",
    "\n",
    "cos_credentials = {\n",
    "  \"apikey\": cos_apikey,\n",
    "  \"cos_hmac_keys\": {\n",
    "    \"access_key_id\": cos_hmac_access_key_id,\n",
    "    \"secret_access_key\": cos_hmac_secret_access_key\n",
    "  },\n",
    "  \"endpoints\": \"https://cos-service.bluemix.net/endpoints\",\n",
    "  \"iam_apikey_description\": \"Auto generated apikey during resource-key operation for Instance\",\n",
    "  \"iam_apikey_name\": \"auto-generated-apikey-****************************\",\n",
    "  \"iam_role_crn\": \"crn:v1:bluemix:public:iam::::serviceRole:Writer\",\n",
    "  \"iam_serviceid_crn\": \"crn:v1:bluemix:public:iam-identity::a/****************************\",\n",
    "  \"resource_instance_id\": cos_resource_instance_id\n",
    "}"
   ]
  },
  {
   "cell_type": "code",
   "execution_count": 4,
   "metadata": {},
   "outputs": [],
   "source": [
    "for prop in [\"apikey\", \"resource_instance_id\"]:\n",
    "    assert cos_credentials[prop], \"'%s' must be set in 'cos_credentials'\" % prop\n",
    "    \n",
    "for prop in [\"access_key_id\", \"secret_access_key\"]:\n",
    "    assert cos_credentials[\"cos_hmac_keys\"][prop], \"'%s' must be set in 'cos_credentials'\" % prop"
   ]
  },
  {
   "cell_type": "markdown",
   "metadata": {},
   "source": [
    "Create a `boto` resource to be able to write data to COS. The boto library `ibm-cos-sdk` allows Python developers to manage Cloud Object Storage (COS)."
   ]
  },
  {
   "cell_type": "code",
   "execution_count": 5,
   "metadata": {},
   "outputs": [],
   "source": [
    "import ibm_boto3\n",
    "from ibm_botocore.client import Config\n",
    "\n",
    "cos = ibm_boto3.resource('s3',\n",
    "                         config                  = Config(signature_version='oauth'),\n",
    "                         endpoint_url            = cos_service_endpoint,\n",
    "                         ibm_auth_endpoint       = cos_auth_endpoint,\n",
    "                         ibm_api_key_id          = cos_credentials['apikey'],\n",
    "                         ibm_service_instance_id = cos_credentials['resource_instance_id'])"
   ]
  },
  {
   "cell_type": "markdown",
   "metadata": {},
   "source": [
    "Create two buckets, which you will use to store training data and training results.\n",
    "\n",
    "**Note:** The bucket names must be unique."
   ]
  },
  {
   "cell_type": "code",
   "execution_count": 6,
   "metadata": {},
   "outputs": [
    {
     "name": "stdout",
     "output_type": "stream",
     "text": [
      "Creating bucket \"training-data-37e1f443-9e20-47f7-962d-43b68c4e26a3\" ...\n",
      "Creating bucket \"training-results-37e1f443-9e20-47f7-962d-43b68c4e26a3\" ...\n"
     ]
    }
   ],
   "source": [
    "from uuid import uuid4\n",
    "\n",
    "bucket_uid = str(uuid4())\n",
    "buckets = ['training-data-' + bucket_uid,\n",
    "           'training-results-' + bucket_uid]\n",
    "\n",
    "for bucket in buckets:\n",
    "        print('Creating bucket \"{}\" ...'.format(bucket))\n",
    "        try:\n",
    "            cos.create_bucket(Bucket=bucket)\n",
    "        except ibm_boto3.exceptions.ibm_botocore.client.ClientError as e:\n",
    "            print('Error: {}.'.format(e.response['Error']['Message']))\n",
    "            \n",
    "training_data_bucket = buckets[0]\n",
    "training_result_bucket = buckets[1]\n"
   ]
  },
  {
   "cell_type": "markdown",
   "metadata": {},
   "source": [
    "Now you should have 2 buckets."
   ]
  },
  {
   "cell_type": "markdown",
   "metadata": {},
   "source": [
    "### 1.3 Download MNIST training data and upload it to the COS buckets"
   ]
  },
  {
   "cell_type": "markdown",
   "metadata": {},
   "source": [
    "Download the training data and upload it to the `training-data` bucket.\n",
    "First, create a list of links for the training dataset."
   ]
  },
  {
   "cell_type": "code",
   "execution_count": 7,
   "metadata": {},
   "outputs": [],
   "source": [
    "# TODO: download original data set and convert to npz\n",
    "\n",
    "# Create a list of links.\n",
    "data_links = ['https://github.com/anupamamurthi/datasets-models/raw/master/mnist/training_data/mnist.npz']"
   ]
  },
  {
   "cell_type": "markdown",
   "metadata": {},
   "source": [
    "The code in the next cell uploads files from links to your COS."
   ]
  },
  {
   "cell_type": "code",
   "execution_count": 8,
   "metadata": {},
   "outputs": [
    {
     "name": "stdout",
     "output_type": "stream",
     "text": [
      "Uploading data mnist.npz ...\n",
      "mnist.npz is uploaded.\n"
     ]
    }
   ],
   "source": [
    "# Upload files from the links to COS\n",
    "from urllib.request import urlopen\n",
    "\n",
    "bucket_obj = cos.Bucket(training_data_bucket)\n",
    "\n",
    "for data_link in data_links:\n",
    "    filename=data_link.split('/')[-1]\n",
    "    print('Uploading data {} ...'.format(filename))\n",
    "    with urlopen(data_link) as data:\n",
    "        bucket_obj.upload_fileobj(data, filename)\n",
    "        print('{} is uploaded.'.format(filename))"
   ]
  },
  {
   "cell_type": "markdown",
   "metadata": {},
   "source": [
    "Have a look at the list of the created buckets and their contents."
   ]
  },
  {
   "cell_type": "code",
   "execution_count": 9,
   "metadata": {
    "scrolled": true
   },
   "outputs": [
    {
     "name": "stdout",
     "output_type": "stream",
     "text": [
      "training-data-37e1f443-9e20-47f7-962d-43b68c4e26a3\n",
      "  File: mnist.npz, 11221.13kB\n",
      "training-results-37e1f443-9e20-47f7-962d-43b68c4e26a3\n"
     ]
    }
   ],
   "source": [
    "for bucket_name in buckets:\n",
    "    print(bucket_name)\n",
    "    bucket_obj = cos.Bucket(bucket_name)\n",
    "    for obj in bucket_obj.objects.all():\n",
    "        print(\"  File: {}, {:4.2f}kB\".format(obj.key, obj.size/1024))"
   ]
  },
  {
   "cell_type": "markdown",
   "metadata": {},
   "source": [
    "You are done with COS, and you are ready to train your model!"
   ]
  },
  {
   "cell_type": "markdown",
   "metadata": {},
   "source": [
    "<a id=\"model\"></a>\n",
    "## 2. Create the Keras model\n",
    "\n",
    "In this section we:\n",
    "\n",
    "- [2.1 Package the model definition](#zip)\n",
    "- [2.2 Prepare the training definition metadata](#manifest)\n"
   ]
  },
  {
   "cell_type": "markdown",
   "metadata": {},
   "source": [
    "### 2.1 Create the Model Zip File <a id=\"zip\"></a>\n",
    "\n",
    "Let's create the model [`convolutional_keras.py`](../edit/convolutional_keras.py) and add it to a zip file."
   ]
  },
  {
   "cell_type": "code",
   "execution_count": 10,
   "metadata": {},
   "outputs": [],
   "source": [
    "script_filename  = \"convolutional_keras.py\"\n",
    "archive_filename = 'model.zip'"
   ]
  },
  {
   "cell_type": "code",
   "execution_count": 11,
   "metadata": {},
   "outputs": [
    {
     "name": "stdout",
     "output_type": "stream",
     "text": [
      "Writing convolutional_keras.py\n"
     ]
    }
   ],
   "source": [
    "%%writefile $script_filename\n",
    "\n",
    "from __future__ import print_function\n",
    "from keras.models import Sequential\n",
    "from keras.layers import Dense, Dropout, Flatten\n",
    "from keras.layers import Conv2D, MaxPooling2D\n",
    "from keras import backend as K\n",
    "\n",
    "import keras\n",
    "import numpy as np\n",
    "import sys\n",
    "import os\n",
    "\n",
    "batch_size = 128\n",
    "num_classes = 10\n",
    "epochs = 1\n",
    "\n",
    "img_rows, img_cols = 28, 28\n",
    "\n",
    "\n",
    "def main(argv):\n",
    "    if len(argv) < 2:\n",
    "        sys.exit(\"Not enough arguments provided.\")\n",
    "\n",
    "    global image_path\n",
    "\n",
    "    i = 1\n",
    "    while i <= 2:\n",
    "        arg = str(argv[i])\n",
    "        if arg == \"--data\":\n",
    "            image_path = os.path.join(os.environ[\"DATA_DIR\"], str(argv[i+1]))\n",
    "        i += 2\n",
    "\n",
    "\n",
    "if __name__ == \"__main__\":\n",
    "    main(sys.argv)\n",
    "\n",
    "# load mnist npz file\n",
    "f = np.load(image_path)\n",
    "x_train = f['x_train']\n",
    "y_train = f['y_train']\n",
    "x_test = f['x_test']\n",
    "y_test = f['y_test']\n",
    "f.close()\n",
    "\n",
    "if K.image_data_format() == 'channels_first':\n",
    "    x_train = x_train.reshape(x_train.shape[0], 1, img_rows, img_cols)\n",
    "    x_test = x_test.reshape(x_test.shape[0], 1, img_rows, img_cols)\n",
    "    input_shape = (1, img_rows, img_cols)\n",
    "else:\n",
    "    x_train = x_train.reshape(x_train.shape[0], img_rows, img_cols, 1)\n",
    "    x_test = x_test.reshape(x_test.shape[0], img_rows, img_cols, 1)\n",
    "    input_shape = (img_rows, img_cols, 1)\n",
    "\n",
    "x_train = x_train.astype('float32')\n",
    "x_test = x_test.astype('float32')\n",
    "x_train /= 255\n",
    "x_test /= 255\n",
    "\n",
    "# convert class vectors to binary class matrices\n",
    "y_train = keras.utils.to_categorical(y_train, num_classes)\n",
    "y_test = keras.utils.to_categorical(y_test, num_classes)\n",
    "\n",
    "# model\n",
    "model = Sequential()\n",
    "model.add(Conv2D(32, kernel_size=(3, 3),\n",
    "                 activation='relu',\n",
    "                 input_shape=input_shape))\n",
    "model.add(Conv2D(64, (3, 3), activation='relu'))\n",
    "model.add(MaxPooling2D(pool_size=(2, 2)))\n",
    "model.add(Dropout(0.25))\n",
    "model.add(Flatten())\n",
    "model.add(Dense(128, activation='relu'))\n",
    "model.add(Dropout(0.5))\n",
    "model.add(Dense(num_classes, activation='softmax'))\n",
    "\n",
    "model.compile(loss=keras.losses.categorical_crossentropy,\n",
    "              optimizer=keras.optimizers.Adadelta(),\n",
    "              metrics=['accuracy'])\n",
    "model.fit(x_train, y_train, batch_size=batch_size, epochs=epochs, verbose=1, validation_split=0.1)\n",
    "\n",
    "score = model.evaluate(x_test, y_test, verbose=0)\n",
    "\n",
    "print('Test loss:', score[0])\n",
    "print('Test accuracy:', score[1])\n",
    "\n",
    "model_wt_path = os.environ[\"RESULT_DIR\"] + \"/keras_original_model.hdf5\"\n",
    "model.save(model_wt_path)\n",
    "print(\"Model saved to file: %s\" % model_wt_path)\n",
    "\n",
    "model_def_path = os.environ[\"RESULT_DIR\"] + \"/keras_original_model.json\"\n",
    "model_json = model.to_json()\n",
    "with open(model_def_path, \"w\") as json_file:\n",
    "    json_file.write(model_json)\n",
    "print(\"Model definition saved to file: %s\" % model_def_path)\n"
   ]
  },
  {
   "cell_type": "code",
   "execution_count": 12,
   "metadata": {},
   "outputs": [
    {
     "name": "stdout",
     "output_type": "stream",
     "text": [
      "  adding: convolutional_keras.py (deflated 60%)\r\n"
     ]
    }
   ],
   "source": [
    "!zip -r {archive_filename} {script_filename}"
   ]
  },
  {
   "cell_type": "markdown",
   "metadata": {},
   "source": [
    "### 2.2 Prepare the Training Definition Metadata <a id=\"manifest\"></a>\n",
    "- *FfDL* does not have a *Keras* community image so we need to `pip`-install *Keras* prior to running the `training_command` \n",
    "- Your COS credentials are referenced in the `data_stores` > `connection` data."
   ]
  },
  {
   "cell_type": "code",
   "execution_count": 13,
   "metadata": {},
   "outputs": [],
   "source": [
    "import yaml\n",
    "\n",
    "training_command = \"pip3 install keras; python3 convolutional_keras.py --data ${DATA_DIR}/mnist.npz\"\n",
    "\n",
    "manifest = {\n",
    "  \"name\": \"keras_digit_recognition\",\n",
    "  \"description\": \"Hand-written Digit Recognition Training\",\n",
    "  \"version\": \"1.0\",\n",
    "  \"gpus\": 0,\n",
    "  \"cpus\": 2,\n",
    "  \"memory\": \"2Gb\",\n",
    "  \"data_stores\": [\n",
    "    {\n",
    "      \"id\": \"sl-internal-os\",\n",
    "      \"type\": \"s3_datastore\",\n",
    "      \"training_data\": {\n",
    "        \"container\": training_data_bucket\n",
    "      },\n",
    "      \"training_results\": {\n",
    "        \"container\": training_result_bucket\n",
    "      },\n",
    "      \"connection\": {\n",
    "        \"type\": \"s3_datastore\",\n",
    "        \"auth_url\": cos_service_endpoint,\n",
    "        \"user_name\": cos_credentials['cos_hmac_keys']['access_key_id'],\n",
    "        \"password\": cos_credentials['cos_hmac_keys']['secret_access_key']\n",
    "      }\n",
    "    }\n",
    "  ],\n",
    "  \"framework\": {\n",
    "    \"name\": \"tensorflow\",\n",
    "    \"version\": \"1.5.0-py3\",\n",
    "    \"command\": training_command\n",
    "  },\n",
    "  \"evaluation_metrics\": {\n",
    "    \"type\": \"tensorboard\",\n",
    "    \"in\": \"$JOB_STATE_DIR/logs/tb\"\n",
    "  }\n",
    "}\n",
    "\n",
    "yaml.dump(manifest, open(\"manifest.yml\", \"w\"), default_flow_style=False)"
   ]
  },
  {
   "cell_type": "markdown",
   "metadata": {},
   "source": [
    "## 3. Train the model<a id=\"train\"></a>\n",
    "\n",
    "In this section, learn how to:\n",
    "- [3.1 Setup the command line environment](#cmd_setup)\n",
    "- [3.2 Train the model in the background](#backg)\n",
    "- [3.3 Monitor the training log](#log)\n",
    "- [3.4 Cancel the training](#cancel)"
   ]
  },
  {
   "cell_type": "markdown",
   "metadata": {},
   "source": [
    "### 3.1 Setup the command line environment <a id=\"cmd_setup\"></a>"
   ]
  },
  {
   "cell_type": "markdown",
   "metadata": {},
   "source": [
    "Load the Kubernetes cluster configuration using the [BlueMix CLI](https://console.bluemix.net/docs/cli/index.html#overview). Make sure your machine is logged in with `bx login`."
   ]
  },
  {
   "cell_type": "code",
   "execution_count": 14,
   "metadata": {},
   "outputs": [
    {
     "name": "stdout",
     "output_type": "stream",
     "text": [
      "env: VM_TYPE=ibmcloud\n",
      "env: CLUSTER_NAME=ffdl-with-art\n"
     ]
    }
   ],
   "source": [
    "%env VM_TYPE = ibmcloud\n",
    "%env CLUSTER_NAME $ffdl_cluster_name \n",
    "\n",
    "import os\n",
    "\n",
    "try:\n",
    "    cluster_config = !bx cs cluster-config {os.environ[\"CLUSTER_NAME\"]} | grep \"export KUBECONFIG=\"\n",
    "    os.environ[\"KUBECONFIG\"] = cluster_config[-1].split(\"=\")[-1]\n",
    "except IndexError:\n",
    "    print(\"The cluster %s could not be found.\" % os.environ[\"CLUSTER_NAME\"])\n",
    "    print(\"Run 'bx cs clusters' to list all clusters you have access to.\")\n",
    "    #!bx cs clusters\n",
    "    raise"
   ]
  },
  {
   "cell_type": "markdown",
   "metadata": {},
   "source": [
    "Setup the AWS command with endpoint and credentials and show the list of buckets"
   ]
  },
  {
   "cell_type": "code",
   "execution_count": 15,
   "metadata": {
    "scrolled": true
   },
   "outputs": [],
   "source": [
    "# os.environ[\"AWS_DEFAULT_REGION\"]    = \"us-east-1\"\n",
    "# os.environ[\"AWS_ACCESS_KEY_ID\"]     = cos_credentials[\"cos_hmac_keys\"][\"access_key_id\"]\n",
    "# os.environ[\"AWS_SECRET_ACCESS_KEY\"] = cos_credentials[\"cos_hmac_keys\"][\"secret_access_key\"]\n",
    "\n",
    "# s3_endpoint_url     = cos_service_endpoint                   \n",
    "# os.environ[\"s3cmd\"] = \"aws --endpoint-url=%s s3\" % s3_endpoint_url\n",
    "\n",
    "# !$s3cmd ls"
   ]
  },
  {
   "cell_type": "markdown",
   "metadata": {},
   "source": [
    "Setup the DLaaS URL, username and password"
   ]
  },
  {
   "cell_type": "code",
   "execution_count": 16,
   "metadata": {},
   "outputs": [],
   "source": [
    "notebook_dir   = os.getcwd()\n",
    "ffdl_root_dir  = notebook_dir.replace(\"/etc/notebooks/art\", \"\")"
   ]
  },
  {
   "cell_type": "code",
   "execution_count": 17,
   "metadata": {},
   "outputs": [
    {
     "name": "stdout",
     "output_type": "stream",
     "text": [
      "env: DLAAS_URL=http://169.48.201.210:30020\n",
      "env: DLAAS_USERNAME=test-user\n",
      "env: DLAAS_PASSWORD=test\n"
     ]
    }
   ],
   "source": [
    "node_ip        = !(cd {ffdl_root_dir} && make --no-print-directory kubernetes-ip)\n",
    "restapi_port   = !kubectl get service ffdl-restapi -o jsonpath='{.spec.ports[0].nodePort}'\n",
    "dlaas_url      = \"http://%s:%s\" % (node_ip[0], restapi_port[0])\n",
    "\n",
    "%env DLAAS_URL $dlaas_url\n",
    "%env DLAAS_USERNAME = test-user\n",
    "%env DLAAS_PASSWORD = test"
   ]
  },
  {
   "cell_type": "markdown",
   "metadata": {},
   "source": [
    "Obtain the correct CLI for your machine and run the training job with our Keras model"
   ]
  },
  {
   "cell_type": "code",
   "execution_count": 18,
   "metadata": {},
   "outputs": [],
   "source": [
    "import platform\n",
    "\n",
    "ffdl = \"%s/cli/bin/ffdl-%s\" % (ffdl_root_dir, \"osx\" if platform.system() == \"Darwin\" else \"linux\")"
   ]
  },
  {
   "cell_type": "markdown",
   "metadata": {},
   "source": [
    "### 3.2 Train the model in the background<a id=\"backg\"></a>\n"
   ]
  },
  {
   "cell_type": "code",
   "execution_count": 19,
   "metadata": {},
   "outputs": [
    {
     "data": {
      "text/plain": [
       "[\"Deploying model with manifest 'manifest.yml' and model file 'model.zip'...\",\n",
       " 'Model ID: training-NZEqlaIig',\n",
       " 'OK']"
      ]
     },
     "execution_count": 19,
     "metadata": {},
     "output_type": "execute_result"
    }
   ],
   "source": [
    "out = !{ffdl} train \"manifest.yml\" \"model.zip\"\n",
    "out"
   ]
  },
  {
   "cell_type": "markdown",
   "metadata": {},
   "source": [
    "### 3.3  Monitor the training log<a id=\"log\"></a>"
   ]
  },
  {
   "cell_type": "code",
   "execution_count": 20,
   "metadata": {},
   "outputs": [
    {
     "name": "stdout",
     "output_type": "stream",
     "text": [
      "Getting model training logs for '\u001b[1;36mtraining-NZEqlaIig\u001b[0m'...\n",
      "Status: PENDING\n",
      "Status: Not Started\n",
      "Training with training/test data at:\n",
      "  DATA_DIR: /job/training-data-37e1f443-9e20-47f7-962d-43b68c4e26a3\n",
      "  MODEL_DIR: /job/model-code\n",
      "  TRAINING_JOB: \n",
      "  TRAINING_COMMAND: pip3 install keras; python3 convolutional_keras.py --data ${DATA_DIR}/mnist.npz\n",
      "Storing trained model at:\n",
      "  RESULT_DIR: /job/training-results-37e1f443-9e20-47f7-962d-43b68c4e26a3\n",
      "Contents of $MODEL_DIR\n",
      "total 12\n",
      "drwxrwxrwx 2 6342627 root 4096 Jun  9 01:31 .\n",
      "drwxrwxrwx 6 root    root 4096 Jun  9 01:31 ..\n",
      "-rwxrwxrwx 1 6342627 root 2650 Jun  8 18:29 convolutional_keras.py\n",
      "Contents of $DATA_DIR\n",
      "total 11232\n",
      "drwxr-xr-x 2 6342627 root     4096 Jun  9 01:31 .\n",
      "drwxrwxrwx 6 root    root     4096 Jun  9 01:31 ..\n",
      "-rw-r--r-- 1 6342627 root 11490434 Jun  9 01:29 mnist.npz\n",
      "DATA_DIR=/job/training-data-37e1f443-9e20-47f7-962d-43b68c4e26a3\n",
      "ELASTICSEARCH_PORT=tcp://172.21.40.112:9200\n",
      "ELASTICSEARCH_PORT_9200_TCP=tcp://172.21.40.112:9200\n",
      "ELASTICSEARCH_PORT_9200_TCP_ADDR=172.21.40.112\n",
      "ELASTICSEARCH_PORT_9200_TCP_PORT=9200\n",
      "ELASTICSEARCH_PORT_9200_TCP_PROTO=tcp\n",
      "ELASTICSEARCH_SERVICE_HOST=172.21.40.112\n",
      "ELASTICSEARCH_SERVICE_PORT=9200\n",
      "ELASTICSEARCH_SERVICE_PORT_HTTP=9200\n",
      "FFDL_LCM_PORT=tcp://172.21.112.20:80\n",
      "FFDL_LCM_PORT_80_TCP=tcp://172.21.112.20:80\n",
      "FFDL_LCM_PORT_80_TCP_ADDR=172.21.112.20\n",
      "FFDL_LCM_PORT_80_TCP_PORT=80\n",
      "FFDL_LCM_PORT_80_TCP_PROTO=tcp\n",
      "FFDL_LCM_SERVICE_HOST=172.21.112.20\n",
      "FFDL_LCM_SERVICE_PORT=80\n",
      "FFDL_LCM_SERVICE_PORT_GRPC=80\n",
      "FFDL_RESTAPI_PORT=tcp://172.21.130.217:80\n",
      "FFDL_RESTAPI_PORT_80_TCP=tcp://172.21.130.217:80\n",
      "FFDL_RESTAPI_PORT_80_TCP_ADDR=172.21.130.217\n",
      "FFDL_RESTAPI_PORT_80_TCP_PORT=80\n",
      "FFDL_RESTAPI_PORT_80_TCP_PROTO=tcp\n",
      "FFDL_RESTAPI_SERVICE_HOST=172.21.130.217\n",
      "FFDL_RESTAPI_SERVICE_PORT=80\n",
      "FFDL_RESTAPI_SERVICE_PORT_FFDL=80\n",
      "FFDL_TRAINER_PORT=tcp://172.21.226.67:80\n",
      "FFDL_TRAINER_PORT_80_TCP=tcp://172.21.226.67:80\n",
      "FFDL_TRAINER_PORT_80_TCP_ADDR=172.21.226.67\n",
      "FFDL_TRAINER_PORT_80_TCP_PORT=80\n",
      "FFDL_TRAINER_PORT_80_TCP_PROTO=tcp\n",
      "FFDL_TRAINER_SERVICE_HOST=172.21.226.67\n",
      "FFDL_TRAINER_SERVICE_PORT=80\n",
      "FFDL_TRAINER_SERVICE_PORT_GRPC=80\n",
      "FFDL_TRAININGDATA_PORT=tcp://172.21.106.158:80\n",
      "FFDL_TRAININGDATA_PORT_80_TCP=tcp://172.21.106.158:80\n",
      "FFDL_TRAININGDATA_PORT_80_TCP_ADDR=172.21.106.158\n",
      "FFDL_TRAININGDATA_PORT_80_TCP_PORT=80\n",
      "FFDL_TRAININGDATA_PORT_80_TCP_PROTO=tcp\n",
      "FFDL_TRAININGDATA_SERVICE_HOST=172.21.106.158\n",
      "FFDL_TRAININGDATA_SERVICE_PORT=80\n",
      "FFDL_TRAININGDATA_SERVICE_PORT_GRPC=80\n",
      "FFDL_UI_PORT=tcp://172.21.201.22:80\n",
      "FFDL_UI_PORT_80_TCP=tcp://172.21.201.22:80\n",
      "FFDL_UI_PORT_80_TCP_ADDR=172.21.201.22\n",
      "FFDL_UI_PORT_80_TCP_PORT=80\n",
      "FFDL_UI_PORT_80_TCP_PROTO=tcp\n",
      "FFDL_UI_SERVICE_HOST=172.21.201.22\n",
      "FFDL_UI_SERVICE_PORT=80\n",
      "FFDL_UI_SERVICE_PORT_HTTP=80\n",
      "GPU_COUNT=0.000000\n",
      "HOME=/root\n",
      "JOB_STATE_DIR=/job\n",
      "LEARNER_ID=1\n",
      "LOG_DIR=/job/logs\n",
      "MODEL_DIR=/job/model-code\n",
      "OLDPWD=/notebooks\n",
      "PATH=/usr/local/bin/:/usr/local/sbin:/usr/local/bin:/usr/sbin:/usr/bin:/sbin:/bin\n",
      "PROMETHEUS_PORT=tcp://172.21.53.216:9090\n",
      "PROMETHEUS_PORT_9090_TCP=tcp://172.21.53.216:9090\n",
      "PROMETHEUS_PORT_9090_TCP_ADDR=172.21.53.216\n",
      "PROMETHEUS_PORT_9090_TCP_PORT=9090\n",
      "PROMETHEUS_PORT_9090_TCP_PROTO=tcp\n",
      "PROMETHEUS_SERVICE_HOST=172.21.53.216\n",
      "PROMETHEUS_SERVICE_PORT=9090\n",
      "PROMETHEUS_SERVICE_PORT_PROMETHEUS=9090\n",
      "PWD=/job/model-code\n",
      "PYTHONPATH=:/job/model-code\n",
      "RESULT_DIR=/job/training-results-37e1f443-9e20-47f7-962d-43b68c4e26a3\n",
      "S3_PORT=tcp://172.21.95.18:80\n",
      "S3_PORT_80_TCP=tcp://172.21.95.18:80\n",
      "S3_PORT_80_TCP_ADDR=172.21.95.18\n",
      "S3_PORT_80_TCP_PORT=80\n",
      "S3_PORT_80_TCP_PROTO=tcp\n",
      "S3_SERVICE_HOST=172.21.95.18\n",
      "S3_SERVICE_PORT=80\n",
      "SHLVL=3\n",
      "TRAINING_COMMAND=pip3 install keras; python3 convolutional_keras.py --data ${DATA_DIR}/mnist.npz\n",
      "TRAINING_ID=training-NZEqlaIig\n",
      "_=/usr/bin/env\n",
      "Sat Jun  9 01:31:59 UTC 2018: Running training job\n",
      "Collecting keras\n",
      "  Downloading https://files.pythonhosted.org/packages/68/12/4cabc5c01451eb3b413d19ea151f36e33026fc0efb932bf51bcaf54acbf5/Keras-2.2.0-py2.py3-none-any.whl (300kB)\n",
      "Collecting pyyaml (from keras)\n",
      "  Downloading https://files.pythonhosted.org/packages/4a/85/db5a2df477072b2902b0eb892feb37d88ac635d36245a72a6a69b23b383a/PyYAML-3.12.tar.gz (253kB)\n",
      "Requirement already satisfied: six>=1.9.0 in /usr/local/lib/python3.5/dist-packages (from keras)\n",
      "Requirement already satisfied: scipy>=0.14 in /usr/local/lib/python3.5/dist-packages (from keras)\n",
      "Requirement already satisfied: numpy>=1.9.1 in /usr/local/lib/python3.5/dist-packages (from keras)\n",
      "Collecting keras-preprocessing==1.0.1 (from keras)\n",
      "  Downloading https://files.pythonhosted.org/packages/f8/33/275506afe1d96b221f66f95adba94d1b73f6b6087cfb6132a5655b6fe338/Keras_Preprocessing-1.0.1-py2.py3-none-any.whl\n",
      "Requirement already satisfied: h5py in /usr/local/lib/python3.5/dist-packages (from keras)\n",
      "Collecting keras-applications==1.0.2 (from keras)\n",
      "  Downloading https://files.pythonhosted.org/packages/e2/60/c557075e586e968d7a9c314aa38c236b37cb3ee6b37e8d57152b1a5e0b47/Keras_Applications-1.0.2-py2.py3-none-any.whl (43kB)\n",
      "Building wheels for collected packages: pyyaml\n",
      "  Running setup.py bdist_wheel for pyyaml: started\n",
      "  Running setup.py bdist_wheel for pyyaml: finished with status 'done'\n",
      "  Stored in directory: /root/.cache/pip/wheels/03/05/65/bdc14f2c6e09e82ae3e0f13d021e1b6b2481437ea2f207df3f\n",
      "Successfully built pyyaml\n",
      "Installing collected packages: pyyaml, keras-preprocessing, keras-applications, keras\n",
      "Successfully installed keras-2.2.0 keras-applications-1.0.2 keras-preprocessing-1.0.1 pyyaml-3.12\n",
      "You are using pip version 9.0.1, however version 10.0.1 is available.\n",
      "You should consider upgrading via the 'pip install --upgrade pip' command.\n",
      "2018-06-09 01:32:05.837398: I tensorflow/core/platform/cpu_feature_guard.cc:137] Your CPU supports instructions that this TensorFlow binary was not compiled to use: SSE4.1 SSE4.2 AVX AVX2 FMA\n",
      "Train on 54000 samples, validate on 6000 samples\n",
      "Epoch 1/1\n",
      "\n",
      "  128/54000 [..............................] - ETA: 6:03 - loss: 2.3382 - acc: 0.0469\n",
      "  256/54000 [..............................] - ETA: 5:10 - loss: 2.2959 - acc: 0.1172\n",
      "  384/54000 [..............................] - ETA: 4:58 - loss: 2.2550 - acc: 0.1328\n",
      "  512/54000 [..............................] - ETA: 4:45 - loss: 2.2072 - acc: 0.1875\n",
      "  640/54000 [..............................] - ETA: 4:33 - loss: 2.1548 - acc: 0.2156\n",
      "  768/54000 [..............................] - ETA: 4:28 - loss: 2.0889 - acc: 0.2487\n",
      "  896/54000 [..............................] - ETA: 4:26 - loss: 2.0252 - acc: 0.2835\n",
      " 1024/54000 [..............................] - ETA: 4:25 - loss: 2.0009 - acc: 0.2939\n",
      " 1152/54000 [..............................] - ETA: 4:22 - loss: 1.9649 - acc: 0.3134\n",
      " 1280/54000 [..............................] - ETA: 4:21 - loss: 1.9351 - acc: 0.3273\n",
      " 1408/54000 [..............................] - ETA: 4:19 - loss: 1.8885 - acc: 0.3423\n",
      " 1536/54000 [..............................] - ETA: 4:17 - loss: 1.8577 - acc: 0.3555\n",
      " 1664/54000 [..............................] - ETA: 4:16 - loss: 1.8253 - acc: 0.3744\n",
      " 1792/54000 [..............................] - ETA: 4:14 - loss: 1.7967 - acc: 0.3834\n",
      " 1920/54000 [>.............................] - ETA: 4:13 - loss: 1.7511 - acc: 0.4031\n",
      " 2048/54000 [>.............................] - ETA: 4:12 - loss: 1.6997 - acc: 0.4224\n",
      " 2176/54000 [>.............................] - ETA: 4:11 - loss: 1.6624 - acc: 0.4343\n",
      " 2304/54000 [>.............................] - ETA: 4:10 - loss: 1.6430 - acc: 0.4405\n",
      " 2432/54000 [>.............................] - ETA: 4:09 - loss: 1.6111 - acc: 0.4519\n",
      " 2560/54000 [>.............................] - ETA: 4:08 - loss: 1.5762 - acc: 0.4641\n",
      " 2688/54000 [>.............................] - ETA: 4:07 - loss: 1.5409 - acc: 0.4777\n",
      " 2816/54000 [>.............................] - ETA: 4:06 - loss: 1.5126 - acc: 0.4883\n",
      " 2944/54000 [>.............................] - ETA: 4:05 - loss: 1.4870 - acc: 0.4966\n",
      " 3072/54000 [>.............................] - ETA: 4:04 - loss: 1.4598 - acc: 0.5072\n",
      " 3200/54000 [>.............................] - ETA: 4:04 - loss: 1.4294 - acc: 0.5194\n",
      " 3328/54000 [>.............................] - ETA: 4:03 - loss: 1.4010 - acc: 0.5300\n",
      " 3456/54000 [>.............................] - ETA: 4:02 - loss: 1.3822 - acc: 0.5373\n",
      " 3584/54000 [>.............................] - ETA: 4:01 - loss: 1.3540 - acc: 0.5488\n"
     ]
    },
    {
     "name": "stdout",
     "output_type": "stream",
     "text": [
      " 3712/54000 [=>............................] - ETA: 4:00 - loss: 1.3292 - acc: 0.5566\n",
      " 3840/54000 [=>............................] - ETA: 3:59 - loss: 1.3047 - acc: 0.5661\n",
      " 3968/54000 [=>............................] - ETA: 3:59 - loss: 1.2852 - acc: 0.5733\n",
      " 4096/54000 [=>............................] - ETA: 3:58 - loss: 1.2777 - acc: 0.5769\n",
      " 4224/54000 [=>............................] - ETA: 3:57 - loss: 1.2678 - acc: 0.5821\n",
      " 4352/54000 [=>............................] - ETA: 3:56 - loss: 1.2500 - acc: 0.5882\n",
      " 4480/54000 [=>............................] - ETA: 3:56 - loss: 1.2311 - acc: 0.5951\n",
      " 4608/54000 [=>............................] - ETA: 3:55 - loss: 1.2111 - acc: 0.6029\n",
      " 4736/54000 [=>............................] - ETA: 3:54 - loss: 1.1923 - acc: 0.6094\n",
      " 4864/54000 [=>............................] - ETA: 3:54 - loss: 1.1741 - acc: 0.6157\n",
      " 4992/54000 [=>............................] - ETA: 3:53 - loss: 1.1588 - acc: 0.6212\n",
      " 5120/54000 [=>............................] - ETA: 3:52 - loss: 1.1441 - acc: 0.6256\n",
      " 5248/54000 [=>............................] - ETA: 3:51 - loss: 1.1341 - acc: 0.6288\n",
      " 5376/54000 [=>............................] - ETA: 3:51 - loss: 1.1219 - acc: 0.6324\n",
      " 5504/54000 [==>...........................] - ETA: 3:50 - loss: 1.1105 - acc: 0.6374\n",
      " 5632/54000 [==>...........................] - ETA: 3:49 - loss: 1.0967 - acc: 0.6424\n",
      " 5760/54000 [==>...........................] - ETA: 3:49 - loss: 1.0817 - acc: 0.6476\n",
      " 5888/54000 [==>...........................] - ETA: 3:48 - loss: 1.0665 - acc: 0.6520\n",
      " 6016/54000 [==>...........................] - ETA: 3:47 - loss: 1.0523 - acc: 0.6564\n",
      " 6144/54000 [==>...........................] - ETA: 3:47 - loss: 1.0399 - acc: 0.6608\n",
      " 6272/54000 [==>...........................] - ETA: 3:46 - loss: 1.0292 - acc: 0.6641\n",
      " 6400/54000 [==>...........................] - ETA: 3:45 - loss: 1.0205 - acc: 0.6666\n",
      " 6528/54000 [==>...........................] - ETA: 3:45 - loss: 1.0118 - acc: 0.6694\n",
      " 6656/54000 [==>...........................] - ETA: 3:44 - loss: 1.0003 - acc: 0.6734\n",
      " 6784/54000 [==>...........................] - ETA: 3:43 - loss: 0.9918 - acc: 0.6764\n",
      " 6912/54000 [==>...........................] - ETA: 3:42 - loss: 0.9833 - acc: 0.6795\n",
      " 7040/54000 [==>...........................] - ETA: 3:42 - loss: 0.9738 - acc: 0.6827\n",
      " 7168/54000 [==>...........................] - ETA: 3:41 - loss: 0.9630 - acc: 0.6860\n",
      " 7296/54000 [===>..........................] - ETA: 3:41 - loss: 0.9544 - acc: 0.6891\n",
      " 7424/54000 [===>..........................] - ETA: 3:40 - loss: 0.9446 - acc: 0.6928\n",
      " 7552/54000 [===>..........................] - ETA: 3:39 - loss: 0.9358 - acc: 0.6952\n",
      " 7680/54000 [===>..........................] - ETA: 3:39 - loss: 0.9281 - acc: 0.6986\n",
      " 7808/54000 [===>..........................] - ETA: 3:38 - loss: 0.9186 - acc: 0.7021\n",
      " 7936/54000 [===>..........................] - ETA: 3:38 - loss: 0.9121 - acc: 0.7041\n",
      " 8064/54000 [===>..........................] - ETA: 3:37 - loss: 0.9048 - acc: 0.7063\n",
      " 8192/54000 [===>..........................] - ETA: 3:36 - loss: 0.8961 - acc: 0.7094\n",
      " 8320/54000 [===>..........................] - ETA: 3:36 - loss: 0.8885 - acc: 0.7118\n",
      " 8448/54000 [===>..........................] - ETA: 3:35 - loss: 0.8801 - acc: 0.7145\n",
      " 8576/54000 [===>..........................] - ETA: 3:34 - loss: 0.8743 - acc: 0.7169\n",
      " 8704/54000 [===>..........................] - ETA: 3:34 - loss: 0.8657 - acc: 0.7199\n",
      " 8832/54000 [===>..........................] - ETA: 3:33 - loss: 0.8586 - acc: 0.7224\n",
      " 8960/54000 [===>..........................] - ETA: 3:33 - loss: 0.8510 - acc: 0.7250\n",
      " 9088/54000 [====>.........................] - ETA: 3:32 - loss: 0.8430 - acc: 0.7276\n",
      " 9216/54000 [====>.........................] - ETA: 3:32 - loss: 0.8370 - acc: 0.7301\n",
      " 9344/54000 [====>.........................] - ETA: 3:31 - loss: 0.8309 - acc: 0.7323\n",
      " 9472/54000 [====>.........................] - ETA: 3:30 - loss: 0.8241 - acc: 0.7347\n",
      " 9600/54000 [====>.........................] - ETA: 3:30 - loss: 0.8170 - acc: 0.7373\n",
      " 9728/54000 [====>.........................] - ETA: 3:29 - loss: 0.8109 - acc: 0.7393\n",
      " 9856/54000 [====>.........................] - ETA: 3:28 - loss: 0.8049 - acc: 0.7413\n",
      " 9984/54000 [====>.........................] - ETA: 3:28 - loss: 0.7983 - acc: 0.7438\n",
      "10112/54000 [====>.........................] - ETA: 3:27 - loss: 0.7932 - acc: 0.7456\n",
      "10240/54000 [====>.........................] - ETA: 3:27 - loss: 0.7886 - acc: 0.7471\n",
      "10368/54000 [====>.........................] - ETA: 3:26 - loss: 0.7833 - acc: 0.7489\n",
      "10496/54000 [====>.........................] - ETA: 3:25 - loss: 0.7785 - acc: 0.7510\n",
      "10624/54000 [====>.........................] - ETA: 3:25 - loss: 0.7728 - acc: 0.7529\n",
      "10752/54000 [====>.........................] - ETA: 3:24 - loss: 0.7661 - acc: 0.7554\n",
      "10880/54000 [=====>........................] - ETA: 3:23 - loss: 0.7597 - acc: 0.7574\n",
      "11008/54000 [=====>........................] - ETA: 3:23 - loss: 0.7542 - acc: 0.7590\n",
      "11136/54000 [=====>........................] - ETA: 3:22 - loss: 0.7480 - acc: 0.7611\n",
      "11264/54000 [=====>........................] - ETA: 3:21 - loss: 0.7433 - acc: 0.7628\n",
      "11392/54000 [=====>........................] - ETA: 3:21 - loss: 0.7387 - acc: 0.7645\n",
      "11520/54000 [=====>........................] - ETA: 3:20 - loss: 0.7340 - acc: 0.7661\n",
      "11648/54000 [=====>........................] - ETA: 3:20 - loss: 0.7289 - acc: 0.7679\n",
      "11776/54000 [=====>........................] - ETA: 3:19 - loss: 0.7252 - acc: 0.7693\n",
      "11904/54000 [=====>........................] - ETA: 3:18 - loss: 0.7219 - acc: 0.7703\n",
      "12032/54000 [=====>........................] - ETA: 3:18 - loss: 0.7169 - acc: 0.7717\n",
      "12160/54000 [=====>........................] - ETA: 3:17 - loss: 0.7115 - acc: 0.7736\n",
      "12288/54000 [=====>........................] - ETA: 3:17 - loss: 0.7084 - acc: 0.7749\n",
      "12416/54000 [=====>........................] - ETA: 3:16 - loss: 0.7061 - acc: 0.7759\n",
      "12544/54000 [=====>........................] - ETA: 3:15 - loss: 0.7029 - acc: 0.7768\n",
      "12672/54000 [======>.......................] - ETA: 3:15 - loss: 0.6994 - acc: 0.7776\n",
      "12800/54000 [======>.......................] - ETA: 3:14 - loss: 0.6959 - acc: 0.7788\n",
      "12928/54000 [======>.......................] - ETA: 3:13 - loss: 0.6934 - acc: 0.7798\n",
      "13056/54000 [======>.......................] - ETA: 3:13 - loss: 0.6899 - acc: 0.7806\n",
      "13184/54000 [======>.......................] - ETA: 3:12 - loss: 0.6868 - acc: 0.7817\n",
      "13312/54000 [======>.......................] - ETA: 3:12 - loss: 0.6834 - acc: 0.7831\n",
      "13440/54000 [======>.......................] - ETA: 3:11 - loss: 0.6784 - acc: 0.7848\n",
      "13568/54000 [======>.......................] - ETA: 3:10 - loss: 0.6754 - acc: 0.7859\n",
      "13696/54000 [======>.......................] - ETA: 3:10 - loss: 0.6720 - acc: 0.7872\n",
      "13824/54000 [======>.......................] - ETA: 3:09 - loss: 0.6689 - acc: 0.7880\n",
      "13952/54000 [======>.......................] - ETA: 3:09 - loss: 0.6652 - acc: 0.7894\n",
      "14080/54000 [======>.......................] - ETA: 3:08 - loss: 0.6626 - acc: 0.7901\n",
      "14208/54000 [======>.......................] - ETA: 3:07 - loss: 0.6583 - acc: 0.7917\n",
      "14336/54000 [======>.......................] - ETA: 3:07 - loss: 0.6540 - acc: 0.7930\n",
      "14464/54000 [=======>......................] - ETA: 3:06 - loss: 0.6510 - acc: 0.7940\n",
      "14592/54000 [=======>......................] - ETA: 3:05 - loss: 0.6486 - acc: 0.7945\n",
      "14720/54000 [=======>......................] - ETA: 3:05 - loss: 0.6445 - acc: 0.7959\n",
      "14848/54000 [=======>......................] - ETA: 3:04 - loss: 0.6420 - acc: 0.7968\n",
      "14976/54000 [=======>......................] - ETA: 3:04 - loss: 0.6397 - acc: 0.7978\n",
      "15104/54000 [=======>......................] - ETA: 3:03 - loss: 0.6363 - acc: 0.7989\n",
      "15232/54000 [=======>......................] - ETA: 3:02 - loss: 0.6334 - acc: 0.8000\n",
      "15360/54000 [=======>......................] - ETA: 3:02 - loss: 0.6303 - acc: 0.8010\n",
      "15488/54000 [=======>......................] - ETA: 3:01 - loss: 0.6277 - acc: 0.8019\n",
      "15616/54000 [=======>......................] - ETA: 3:01 - loss: 0.6251 - acc: 0.8027\n",
      "15744/54000 [=======>......................] - ETA: 3:00 - loss: 0.6226 - acc: 0.8035\n",
      "15872/54000 [=======>......................] - ETA: 2:59 - loss: 0.6194 - acc: 0.8044\n"
     ]
    },
    {
     "name": "stdout",
     "output_type": "stream",
     "text": [
      "16000/54000 [=======>......................] - ETA: 2:59 - loss: 0.6168 - acc: 0.8054\n",
      "16128/54000 [=======>......................] - ETA: 2:58 - loss: 0.6138 - acc: 0.8064\n",
      "16256/54000 [========>.....................] - ETA: 2:57 - loss: 0.6101 - acc: 0.8076\n",
      "16384/54000 [========>.....................] - ETA: 2:57 - loss: 0.6064 - acc: 0.8087\n",
      "16512/54000 [========>.....................] - ETA: 2:56 - loss: 0.6032 - acc: 0.8097\n",
      "16640/54000 [========>.....................] - ETA: 2:56 - loss: 0.6015 - acc: 0.8102\n",
      "16768/54000 [========>.....................] - ETA: 2:55 - loss: 0.5996 - acc: 0.8109\n",
      "16896/54000 [========>.....................] - ETA: 2:54 - loss: 0.5968 - acc: 0.8121\n",
      "17024/54000 [========>.....................] - ETA: 2:54 - loss: 0.5937 - acc: 0.8131\n",
      "17152/54000 [========>.....................] - ETA: 2:53 - loss: 0.5915 - acc: 0.8138\n",
      "17280/54000 [========>.....................] - ETA: 2:53 - loss: 0.5890 - acc: 0.8146\n",
      "17408/54000 [========>.....................] - ETA: 2:52 - loss: 0.5863 - acc: 0.8154\n",
      "17536/54000 [========>.....................] - ETA: 2:51 - loss: 0.5836 - acc: 0.8162\n",
      "17664/54000 [========>.....................] - ETA: 2:51 - loss: 0.5809 - acc: 0.8171\n",
      "17792/54000 [========>.....................] - ETA: 2:50 - loss: 0.5782 - acc: 0.8180\n",
      "17920/54000 [========>.....................] - ETA: 2:50 - loss: 0.5756 - acc: 0.8189\n",
      "18048/54000 [=========>....................] - ETA: 2:49 - loss: 0.5734 - acc: 0.8195\n",
      "18176/54000 [=========>....................] - ETA: 2:48 - loss: 0.5706 - acc: 0.8202\n",
      "18304/54000 [=========>....................] - ETA: 2:48 - loss: 0.5690 - acc: 0.8205\n",
      "18432/54000 [=========>....................] - ETA: 2:47 - loss: 0.5669 - acc: 0.8213\n",
      "18560/54000 [=========>....................] - ETA: 2:47 - loss: 0.5657 - acc: 0.8217\n",
      "18688/54000 [=========>....................] - ETA: 2:46 - loss: 0.5641 - acc: 0.8223\n",
      "18816/54000 [=========>....................] - ETA: 2:45 - loss: 0.5620 - acc: 0.8230\n",
      "18944/54000 [=========>....................] - ETA: 2:45 - loss: 0.5600 - acc: 0.8237\n",
      "19072/54000 [=========>....................] - ETA: 2:44 - loss: 0.5578 - acc: 0.8245\n",
      "19200/54000 [=========>....................] - ETA: 2:44 - loss: 0.5558 - acc: 0.8253\n",
      "19328/54000 [=========>....................] - ETA: 2:43 - loss: 0.5536 - acc: 0.8259\n",
      "19456/54000 [=========>....................] - ETA: 2:42 - loss: 0.5514 - acc: 0.8266\n",
      "19584/54000 [=========>....................] - ETA: 2:42 - loss: 0.5486 - acc: 0.8275\n",
      "19712/54000 [=========>....................] - ETA: 2:41 - loss: 0.5467 - acc: 0.8280\n",
      "19840/54000 [==========>...................] - ETA: 2:41 - loss: 0.5447 - acc: 0.8287\n",
      "19968/54000 [==========>...................] - ETA: 2:40 - loss: 0.5427 - acc: 0.8293\n",
      "20096/54000 [==========>...................] - ETA: 2:39 - loss: 0.5400 - acc: 0.8301\n",
      "20224/54000 [==========>...................] - ETA: 2:39 - loss: 0.5382 - acc: 0.8307\n",
      "20352/54000 [==========>...................] - ETA: 2:38 - loss: 0.5358 - acc: 0.8315\n",
      "20480/54000 [==========>...................] - ETA: 2:38 - loss: 0.5337 - acc: 0.8321\n",
      "20608/54000 [==========>...................] - ETA: 2:37 - loss: 0.5317 - acc: 0.8327\n",
      "20736/54000 [==========>...................] - ETA: 2:36 - loss: 0.5298 - acc: 0.8333\n",
      "20864/54000 [==========>...................] - ETA: 2:36 - loss: 0.5273 - acc: 0.8341\n",
      "20992/54000 [==========>...................] - ETA: 2:35 - loss: 0.5256 - acc: 0.8348\n",
      "21120/54000 [==========>...................] - ETA: 2:35 - loss: 0.5231 - acc: 0.8355\n",
      "21248/54000 [==========>...................] - ETA: 2:34 - loss: 0.5214 - acc: 0.8360\n",
      "21376/54000 [==========>...................] - ETA: 2:33 - loss: 0.5200 - acc: 0.8365\n",
      "21504/54000 [==========>...................] - ETA: 2:33 - loss: 0.5185 - acc: 0.8371\n",
      "21632/54000 [===========>..................] - ETA: 2:32 - loss: 0.5164 - acc: 0.8376\n",
      "21760/54000 [===========>..................] - ETA: 2:32 - loss: 0.5145 - acc: 0.8382\n",
      "21888/54000 [===========>..................] - ETA: 2:31 - loss: 0.5124 - acc: 0.8390\n",
      "22016/54000 [===========>..................] - ETA: 2:30 - loss: 0.5104 - acc: 0.8397\n",
      "22144/54000 [===========>..................] - ETA: 2:30 - loss: 0.5087 - acc: 0.8404\n",
      "22272/54000 [===========>..................] - ETA: 2:29 - loss: 0.5070 - acc: 0.8409\n",
      "22400/54000 [===========>..................] - ETA: 2:29 - loss: 0.5046 - acc: 0.8417\n",
      "22528/54000 [===========>..................] - ETA: 2:28 - loss: 0.5030 - acc: 0.8422\n",
      "22656/54000 [===========>..................] - ETA: 2:27 - loss: 0.5012 - acc: 0.8427\n",
      "22784/54000 [===========>..................] - ETA: 2:27 - loss: 0.4990 - acc: 0.8434\n",
      "22912/54000 [===========>..................] - ETA: 2:26 - loss: 0.4977 - acc: 0.8439\n",
      "23040/54000 [===========>..................] - ETA: 2:26 - loss: 0.4971 - acc: 0.8442\n",
      "23168/54000 [===========>..................] - ETA: 2:25 - loss: 0.4956 - acc: 0.8447\n",
      "23296/54000 [===========>..................] - ETA: 2:24 - loss: 0.4948 - acc: 0.8450\n",
      "23424/54000 [============>.................] - ETA: 2:24 - loss: 0.4936 - acc: 0.8455\n",
      "23552/54000 [============>.................] - ETA: 2:23 - loss: 0.4917 - acc: 0.8460\n",
      "23680/54000 [============>.................] - ETA: 2:22 - loss: 0.4897 - acc: 0.8467\n",
      "23808/54000 [============>.................] - ETA: 2:22 - loss: 0.4880 - acc: 0.8472\n",
      "23936/54000 [============>.................] - ETA: 2:21 - loss: 0.4864 - acc: 0.8477\n",
      "24064/54000 [============>.................] - ETA: 2:21 - loss: 0.4848 - acc: 0.8482\n",
      "24192/54000 [============>.................] - ETA: 2:20 - loss: 0.4834 - acc: 0.8487\n",
      "24320/54000 [============>.................] - ETA: 2:19 - loss: 0.4820 - acc: 0.8491\n",
      "24448/54000 [============>.................] - ETA: 2:19 - loss: 0.4801 - acc: 0.8498\n",
      "24576/54000 [============>.................] - ETA: 2:18 - loss: 0.4786 - acc: 0.8502\n",
      "24704/54000 [============>.................] - ETA: 2:18 - loss: 0.4768 - acc: 0.8508\n",
      "24832/54000 [============>.................] - ETA: 2:17 - loss: 0.4753 - acc: 0.8512\n",
      "24960/54000 [============>.................] - ETA: 2:16 - loss: 0.4741 - acc: 0.8516\n",
      "25088/54000 [============>.................] - ETA: 2:16 - loss: 0.4724 - acc: 0.8521\n",
      "25216/54000 [=============>................] - ETA: 2:15 - loss: 0.4705 - acc: 0.8528\n",
      "25344/54000 [=============>................] - ETA: 2:15 - loss: 0.4694 - acc: 0.8532\n",
      "25472/54000 [=============>................] - ETA: 2:14 - loss: 0.4678 - acc: 0.8536\n",
      "25600/54000 [=============>................] - ETA: 2:13 - loss: 0.4659 - acc: 0.8543\n",
      "25728/54000 [=============>................] - ETA: 2:13 - loss: 0.4645 - acc: 0.8548\n",
      "25856/54000 [=============>................] - ETA: 2:12 - loss: 0.4632 - acc: 0.8552\n",
      "25984/54000 [=============>................] - ETA: 2:12 - loss: 0.4613 - acc: 0.8558\n",
      "26112/54000 [=============>................] - ETA: 2:11 - loss: 0.4605 - acc: 0.8560\n",
      "26240/54000 [=============>................] - ETA: 2:10 - loss: 0.4603 - acc: 0.8562\n",
      "26368/54000 [=============>................] - ETA: 2:10 - loss: 0.4591 - acc: 0.8566\n",
      "26496/54000 [=============>................] - ETA: 2:09 - loss: 0.4583 - acc: 0.8570\n",
      "26624/54000 [=============>................] - ETA: 2:09 - loss: 0.4571 - acc: 0.8574\n",
      "26752/54000 [=============>................] - ETA: 2:08 - loss: 0.4554 - acc: 0.8580\n",
      "26880/54000 [=============>................] - ETA: 2:07 - loss: 0.4540 - acc: 0.8584\n",
      "27008/54000 [==============>...............] - ETA: 2:07 - loss: 0.4523 - acc: 0.8589\n",
      "27136/54000 [==============>...............] - ETA: 2:06 - loss: 0.4509 - acc: 0.8593\n",
      "27264/54000 [==============>...............] - ETA: 2:06 - loss: 0.4495 - acc: 0.8597\n",
      "27392/54000 [==============>...............] - ETA: 2:05 - loss: 0.4480 - acc: 0.8601\n",
      "27520/54000 [==============>...............] - ETA: 2:04 - loss: 0.4470 - acc: 0.8604\n",
      "27648/54000 [==============>...............] - ETA: 2:04 - loss: 0.4462 - acc: 0.8607\n",
      "27776/54000 [==============>...............] - ETA: 2:03 - loss: 0.4451 - acc: 0.8609\n",
      "27904/54000 [==============>...............] - ETA: 2:03 - loss: 0.4439 - acc: 0.8613\n",
      "28032/54000 [==============>...............] - ETA: 2:02 - loss: 0.4427 - acc: 0.8617\n",
      "28160/54000 [==============>...............] - ETA: 2:01 - loss: 0.4416 - acc: 0.8620\n"
     ]
    },
    {
     "name": "stdout",
     "output_type": "stream",
     "text": [
      "28288/54000 [==============>...............] - ETA: 2:01 - loss: 0.4403 - acc: 0.8623\n",
      "28416/54000 [==============>...............] - ETA: 2:00 - loss: 0.4392 - acc: 0.8626\n",
      "28544/54000 [==============>...............] - ETA: 2:00 - loss: 0.4381 - acc: 0.8629\n",
      "28672/54000 [==============>...............] - ETA: 1:59 - loss: 0.4372 - acc: 0.8632\n",
      "28800/54000 [===============>..............] - ETA: 1:58 - loss: 0.4358 - acc: 0.8637\n",
      "28928/54000 [===============>..............] - ETA: 1:58 - loss: 0.4347 - acc: 0.8640\n",
      "29056/54000 [===============>..............] - ETA: 1:57 - loss: 0.4333 - acc: 0.8644\n",
      "29184/54000 [===============>..............] - ETA: 1:56 - loss: 0.4324 - acc: 0.8648\n",
      "29312/54000 [===============>..............] - ETA: 1:56 - loss: 0.4312 - acc: 0.8651\n",
      "29440/54000 [===============>..............] - ETA: 1:55 - loss: 0.4296 - acc: 0.8657\n",
      "29568/54000 [===============>..............] - ETA: 1:55 - loss: 0.4287 - acc: 0.8660\n",
      "29696/54000 [===============>..............] - ETA: 1:54 - loss: 0.4275 - acc: 0.8662\n",
      "29824/54000 [===============>..............] - ETA: 1:53 - loss: 0.4266 - acc: 0.8666\n",
      "29952/54000 [===============>..............] - ETA: 1:53 - loss: 0.4253 - acc: 0.8670\n",
      "30080/54000 [===============>..............] - ETA: 1:52 - loss: 0.4243 - acc: 0.8673\n",
      "30208/54000 [===============>..............] - ETA: 1:52 - loss: 0.4230 - acc: 0.8676\n",
      "30336/54000 [===============>..............] - ETA: 1:51 - loss: 0.4219 - acc: 0.8679\n",
      "30464/54000 [===============>..............] - ETA: 1:50 - loss: 0.4208 - acc: 0.8683\n",
      "30592/54000 [===============>..............] - ETA: 1:50 - loss: 0.4194 - acc: 0.8688\n",
      "30720/54000 [================>.............] - ETA: 1:49 - loss: 0.4182 - acc: 0.8691\n",
      "30848/54000 [================>.............] - ETA: 1:49 - loss: 0.4170 - acc: 0.8695\n",
      "30976/54000 [================>.............] - ETA: 1:48 - loss: 0.4160 - acc: 0.8699\n",
      "31104/54000 [================>.............] - ETA: 1:47 - loss: 0.4156 - acc: 0.8701\n",
      "31232/54000 [================>.............] - ETA: 1:47 - loss: 0.4147 - acc: 0.8704\n",
      "31360/54000 [================>.............] - ETA: 1:46 - loss: 0.4144 - acc: 0.8706\n",
      "31488/54000 [================>.............] - ETA: 1:46 - loss: 0.4135 - acc: 0.8709\n",
      "31616/54000 [================>.............] - ETA: 1:45 - loss: 0.4125 - acc: 0.8712\n",
      "31744/54000 [================>.............] - ETA: 1:44 - loss: 0.4115 - acc: 0.8715\n",
      "31872/54000 [================>.............] - ETA: 1:44 - loss: 0.4109 - acc: 0.8717\n",
      "32000/54000 [================>.............] - ETA: 1:43 - loss: 0.4099 - acc: 0.8721\n",
      "32128/54000 [================>.............] - ETA: 1:43 - loss: 0.4090 - acc: 0.8724\n",
      "32256/54000 [================>.............] - ETA: 1:42 - loss: 0.4083 - acc: 0.8727\n",
      "32384/54000 [================>.............] - ETA: 1:41 - loss: 0.4076 - acc: 0.8729\n",
      "32512/54000 [=================>............] - ETA: 1:41 - loss: 0.4066 - acc: 0.8732\n",
      "32640/54000 [=================>............] - ETA: 1:40 - loss: 0.4054 - acc: 0.8737\n",
      "32768/54000 [=================>............] - ETA: 1:40 - loss: 0.4042 - acc: 0.8741\n",
      "32896/54000 [=================>............] - ETA: 1:39 - loss: 0.4029 - acc: 0.8745\n",
      "33024/54000 [=================>............] - ETA: 1:38 - loss: 0.4021 - acc: 0.8748\n",
      "33152/54000 [=================>............] - ETA: 1:38 - loss: 0.4015 - acc: 0.8750\n",
      "33280/54000 [=================>............] - ETA: 1:37 - loss: 0.4006 - acc: 0.8752\n",
      "33408/54000 [=================>............] - ETA: 1:37 - loss: 0.3996 - acc: 0.8755\n",
      "33536/54000 [=================>............] - ETA: 1:36 - loss: 0.3988 - acc: 0.8757\n",
      "33664/54000 [=================>............] - ETA: 1:35 - loss: 0.3978 - acc: 0.8760\n",
      "33792/54000 [=================>............] - ETA: 1:35 - loss: 0.3971 - acc: 0.8762\n",
      "33920/54000 [=================>............] - ETA: 1:34 - loss: 0.3959 - acc: 0.8766\n",
      "34048/54000 [=================>............] - ETA: 1:34 - loss: 0.3952 - acc: 0.8769\n",
      "34176/54000 [=================>............] - ETA: 1:33 - loss: 0.3946 - acc: 0.8770\n",
      "34304/54000 [==================>...........] - ETA: 1:32 - loss: 0.3934 - acc: 0.8774\n",
      "34432/54000 [==================>...........] - ETA: 1:32 - loss: 0.3925 - acc: 0.8777\n",
      "34560/54000 [==================>...........] - ETA: 1:31 - loss: 0.3917 - acc: 0.8780\n",
      "34688/54000 [==================>...........] - ETA: 1:30 - loss: 0.3908 - acc: 0.8783\n",
      "34816/54000 [==================>...........] - ETA: 1:30 - loss: 0.3897 - acc: 0.8786\n",
      "34944/54000 [==================>...........] - ETA: 1:29 - loss: 0.3886 - acc: 0.8790\n",
      "35072/54000 [==================>...........] - ETA: 1:29 - loss: 0.3877 - acc: 0.8793\n",
      "35200/54000 [==================>...........] - ETA: 1:28 - loss: 0.3866 - acc: 0.8796\n",
      "35328/54000 [==================>...........] - ETA: 1:27 - loss: 0.3854 - acc: 0.8800\n",
      "35456/54000 [==================>...........] - ETA: 1:27 - loss: 0.3845 - acc: 0.8803\n",
      "35584/54000 [==================>...........] - ETA: 1:26 - loss: 0.3836 - acc: 0.8806\n",
      "35712/54000 [==================>...........] - ETA: 1:26 - loss: 0.3830 - acc: 0.8808\n",
      "35840/54000 [==================>...........] - ETA: 1:25 - loss: 0.3827 - acc: 0.8810\n",
      "35968/54000 [==================>...........] - ETA: 1:24 - loss: 0.3820 - acc: 0.8811\n",
      "36096/54000 [===================>..........] - ETA: 1:24 - loss: 0.3812 - acc: 0.8815\n",
      "36224/54000 [===================>..........] - ETA: 1:23 - loss: 0.3804 - acc: 0.8817\n",
      "36352/54000 [===================>..........] - ETA: 1:23 - loss: 0.3794 - acc: 0.8820\n",
      "36480/54000 [===================>..........] - ETA: 1:22 - loss: 0.3788 - acc: 0.8821\n",
      "36608/54000 [===================>..........] - ETA: 1:21 - loss: 0.3779 - acc: 0.8825\n",
      "36736/54000 [===================>..........] - ETA: 1:21 - loss: 0.3770 - acc: 0.8827\n",
      "36864/54000 [===================>..........] - ETA: 1:20 - loss: 0.3764 - acc: 0.8830\n",
      "36992/54000 [===================>..........] - ETA: 1:20 - loss: 0.3756 - acc: 0.8832\n",
      "37120/54000 [===================>..........] - ETA: 1:19 - loss: 0.3747 - acc: 0.8835\n",
      "37248/54000 [===================>..........] - ETA: 1:18 - loss: 0.3740 - acc: 0.8836\n",
      "37376/54000 [===================>..........] - ETA: 1:18 - loss: 0.3732 - acc: 0.8839\n",
      "37504/54000 [===================>..........] - ETA: 1:17 - loss: 0.3727 - acc: 0.8840\n",
      "37632/54000 [===================>..........] - ETA: 1:17 - loss: 0.3720 - acc: 0.8842\n",
      "37760/54000 [===================>..........] - ETA: 1:16 - loss: 0.3716 - acc: 0.8844\n",
      "37888/54000 [====================>.........] - ETA: 1:15 - loss: 0.3713 - acc: 0.8845\n",
      "38016/54000 [====================>.........] - ETA: 1:15 - loss: 0.3706 - acc: 0.8847\n",
      "38144/54000 [====================>.........] - ETA: 1:14 - loss: 0.3697 - acc: 0.8850\n",
      "38272/54000 [====================>.........] - ETA: 1:14 - loss: 0.3688 - acc: 0.8853\n",
      "38400/54000 [====================>.........] - ETA: 1:13 - loss: 0.3679 - acc: 0.8856\n",
      "38528/54000 [====================>.........] - ETA: 1:12 - loss: 0.3671 - acc: 0.8859\n",
      "38656/54000 [====================>.........] - ETA: 1:12 - loss: 0.3663 - acc: 0.8861\n",
      "38784/54000 [====================>.........] - ETA: 1:11 - loss: 0.3655 - acc: 0.8863\n",
      "38912/54000 [====================>.........] - ETA: 1:11 - loss: 0.3647 - acc: 0.8865\n",
      "39040/54000 [====================>.........] - ETA: 1:10 - loss: 0.3639 - acc: 0.8868\n",
      "39168/54000 [====================>.........] - ETA: 1:09 - loss: 0.3634 - acc: 0.8869\n",
      "39296/54000 [====================>.........] - ETA: 1:09 - loss: 0.3628 - acc: 0.8872\n",
      "39424/54000 [====================>.........] - ETA: 1:08 - loss: 0.3624 - acc: 0.8873\n",
      "39552/54000 [====================>.........] - ETA: 1:08 - loss: 0.3620 - acc: 0.8874\n",
      "39680/54000 [=====================>........] - ETA: 1:07 - loss: 0.3615 - acc: 0.8875\n",
      "39808/54000 [=====================>........] - ETA: 1:06 - loss: 0.3605 - acc: 0.8879\n",
      "39936/54000 [=====================>........] - ETA: 1:06 - loss: 0.3596 - acc: 0.8881\n",
      "40064/54000 [=====================>........] - ETA: 1:05 - loss: 0.3590 - acc: 0.8884\n",
      "40192/54000 [=====================>........] - ETA: 1:05 - loss: 0.3583 - acc: 0.8886\n",
      "40320/54000 [=====================>........] - ETA: 1:04 - loss: 0.3574 - acc: 0.8889\n",
      "40448/54000 [=====================>........] - ETA: 1:03 - loss: 0.3570 - acc: 0.8891\n"
     ]
    },
    {
     "name": "stdout",
     "output_type": "stream",
     "text": [
      "40576/54000 [=====================>........] - ETA: 1:03 - loss: 0.3565 - acc: 0.8892\n",
      "40704/54000 [=====================>........] - ETA: 1:02 - loss: 0.3561 - acc: 0.8894\n",
      "40832/54000 [=====================>........] - ETA: 1:02 - loss: 0.3554 - acc: 0.8897\n",
      "40960/54000 [=====================>........] - ETA: 1:01 - loss: 0.3546 - acc: 0.8899\n",
      "41088/54000 [=====================>........] - ETA: 1:00 - loss: 0.3539 - acc: 0.8901\n",
      "41216/54000 [=====================>........] - ETA: 1:00 - loss: 0.3531 - acc: 0.8903\n",
      "41344/54000 [=====================>........] - ETA: 59s - loss: 0.3523 - acc: 0.8906 \n",
      "41472/54000 [======================>.......] - ETA: 59s - loss: 0.3521 - acc: 0.8907\n",
      "41600/54000 [======================>.......] - ETA: 58s - loss: 0.3512 - acc: 0.8909\n",
      "41728/54000 [======================>.......] - ETA: 57s - loss: 0.3505 - acc: 0.8912\n",
      "41856/54000 [======================>.......] - ETA: 57s - loss: 0.3498 - acc: 0.8914\n",
      "41984/54000 [======================>.......] - ETA: 56s - loss: 0.3495 - acc: 0.8915\n",
      "42112/54000 [======================>.......] - ETA: 55s - loss: 0.3490 - acc: 0.8917\n",
      "42240/54000 [======================>.......] - ETA: 55s - loss: 0.3487 - acc: 0.8918\n",
      "42368/54000 [======================>.......] - ETA: 54s - loss: 0.3480 - acc: 0.8920\n",
      "42496/54000 [======================>.......] - ETA: 54s - loss: 0.3472 - acc: 0.8923\n",
      "42624/54000 [======================>.......] - ETA: 53s - loss: 0.3468 - acc: 0.8925\n",
      "42752/54000 [======================>.......] - ETA: 52s - loss: 0.3463 - acc: 0.8927\n",
      "42880/54000 [======================>.......] - ETA: 52s - loss: 0.3456 - acc: 0.8929\n",
      "43008/54000 [======================>.......] - ETA: 51s - loss: 0.3449 - acc: 0.8931\n",
      "43136/54000 [======================>.......] - ETA: 51s - loss: 0.3444 - acc: 0.8933\n",
      "43264/54000 [=======================>......] - ETA: 50s - loss: 0.3436 - acc: 0.8935\n",
      "43392/54000 [=======================>......] - ETA: 49s - loss: 0.3431 - acc: 0.8937\n",
      "43520/54000 [=======================>......] - ETA: 49s - loss: 0.3425 - acc: 0.8939\n",
      "43648/54000 [=======================>......] - ETA: 48s - loss: 0.3423 - acc: 0.8939\n",
      "43776/54000 [=======================>......] - ETA: 48s - loss: 0.3420 - acc: 0.8941\n",
      "43904/54000 [=======================>......] - ETA: 47s - loss: 0.3415 - acc: 0.8942\n",
      "44032/54000 [=======================>......] - ETA: 46s - loss: 0.3407 - acc: 0.8945\n",
      "44160/54000 [=======================>......] - ETA: 46s - loss: 0.3399 - acc: 0.8947\n",
      "44288/54000 [=======================>......] - ETA: 45s - loss: 0.3394 - acc: 0.8948\n",
      "44416/54000 [=======================>......] - ETA: 45s - loss: 0.3387 - acc: 0.8950\n",
      "44544/54000 [=======================>......] - ETA: 44s - loss: 0.3380 - acc: 0.8953\n",
      "44672/54000 [=======================>......] - ETA: 43s - loss: 0.3376 - acc: 0.8954\n",
      "44800/54000 [=======================>......] - ETA: 43s - loss: 0.3370 - acc: 0.8956\n",
      "44928/54000 [=======================>......] - ETA: 42s - loss: 0.3364 - acc: 0.8958\n",
      "45056/54000 [========================>.....] - ETA: 42s - loss: 0.3359 - acc: 0.8960\n",
      "45184/54000 [========================>.....] - ETA: 41s - loss: 0.3353 - acc: 0.8962\n",
      "45312/54000 [========================>.....] - ETA: 40s - loss: 0.3348 - acc: 0.8963\n",
      "45440/54000 [========================>.....] - ETA: 40s - loss: 0.3342 - acc: 0.8965\n",
      "45568/54000 [========================>.....] - ETA: 39s - loss: 0.3336 - acc: 0.8966\n",
      "45696/54000 [========================>.....] - ETA: 39s - loss: 0.3330 - acc: 0.8968\n",
      "45824/54000 [========================>.....] - ETA: 38s - loss: 0.3326 - acc: 0.8969\n",
      "45952/54000 [========================>.....] - ETA: 37s - loss: 0.3321 - acc: 0.8970\n",
      "46080/54000 [========================>.....] - ETA: 37s - loss: 0.3315 - acc: 0.8973\n",
      "46208/54000 [========================>.....] - ETA: 36s - loss: 0.3308 - acc: 0.8974\n",
      "46336/54000 [========================>.....] - ETA: 36s - loss: 0.3305 - acc: 0.8976\n",
      "46464/54000 [========================>.....] - ETA: 35s - loss: 0.3302 - acc: 0.8976\n",
      "46592/54000 [========================>.....] - ETA: 34s - loss: 0.3299 - acc: 0.8976\n",
      "46720/54000 [========================>.....] - ETA: 34s - loss: 0.3293 - acc: 0.8978\n",
      "46848/54000 [=========================>....] - ETA: 33s - loss: 0.3288 - acc: 0.8980\n",
      "46976/54000 [=========================>....] - ETA: 33s - loss: 0.3282 - acc: 0.8982\n",
      "47104/54000 [=========================>....] - ETA: 32s - loss: 0.3274 - acc: 0.8985\n",
      "47232/54000 [=========================>....] - ETA: 31s - loss: 0.3267 - acc: 0.8987\n",
      "47360/54000 [=========================>....] - ETA: 31s - loss: 0.3262 - acc: 0.8989\n",
      "47488/54000 [=========================>....] - ETA: 30s - loss: 0.3254 - acc: 0.8991\n",
      "47616/54000 [=========================>....] - ETA: 30s - loss: 0.3250 - acc: 0.8992\n",
      "47744/54000 [=========================>....] - ETA: 29s - loss: 0.3244 - acc: 0.8994\n",
      "47872/54000 [=========================>....] - ETA: 28s - loss: 0.3240 - acc: 0.8996\n",
      "48000/54000 [=========================>....] - ETA: 28s - loss: 0.3236 - acc: 0.8998\n",
      "48128/54000 [=========================>....] - ETA: 27s - loss: 0.3231 - acc: 0.8999\n",
      "48256/54000 [=========================>....] - ETA: 27s - loss: 0.3227 - acc: 0.9001\n",
      "48384/54000 [=========================>....] - ETA: 26s - loss: 0.3223 - acc: 0.9002\n",
      "48512/54000 [=========================>....] - ETA: 25s - loss: 0.3219 - acc: 0.9004\n",
      "48640/54000 [==========================>...] - ETA: 25s - loss: 0.3215 - acc: 0.9005\n",
      "48768/54000 [==========================>...] - ETA: 24s - loss: 0.3210 - acc: 0.9007\n",
      "48896/54000 [==========================>...] - ETA: 24s - loss: 0.3211 - acc: 0.9007\n",
      "49024/54000 [==========================>...] - ETA: 23s - loss: 0.3205 - acc: 0.9009\n",
      "49152/54000 [==========================>...] - ETA: 22s - loss: 0.3201 - acc: 0.9010\n",
      "49280/54000 [==========================>...] - ETA: 22s - loss: 0.3196 - acc: 0.9011\n",
      "49408/54000 [==========================>...] - ETA: 21s - loss: 0.3192 - acc: 0.9013\n",
      "49536/54000 [==========================>...] - ETA: 21s - loss: 0.3188 - acc: 0.9014\n",
      "49664/54000 [==========================>...] - ETA: 20s - loss: 0.3182 - acc: 0.9016\n",
      "49792/54000 [==========================>...] - ETA: 19s - loss: 0.3177 - acc: 0.9018\n",
      "49920/54000 [==========================>...] - ETA: 19s - loss: 0.3171 - acc: 0.9020\n",
      "50048/54000 [==========================>...] - ETA: 18s - loss: 0.3167 - acc: 0.9021\n",
      "50176/54000 [==========================>...] - ETA: 18s - loss: 0.3163 - acc: 0.9022\n",
      "50304/54000 [==========================>...] - ETA: 17s - loss: 0.3157 - acc: 0.9024\n",
      "50432/54000 [===========================>..] - ETA: 16s - loss: 0.3152 - acc: 0.9026\n",
      "50560/54000 [===========================>..] - ETA: 16s - loss: 0.3146 - acc: 0.9028\n",
      "50688/54000 [===========================>..] - ETA: 15s - loss: 0.3140 - acc: 0.9030\n",
      "50816/54000 [===========================>..] - ETA: 14s - loss: 0.3134 - acc: 0.9031\n",
      "50944/54000 [===========================>..] - ETA: 14s - loss: 0.3130 - acc: 0.9033\n",
      "51072/54000 [===========================>..] - ETA: 13s - loss: 0.3126 - acc: 0.9034\n",
      "51200/54000 [===========================>..] - ETA: 13s - loss: 0.3123 - acc: 0.9035\n",
      "51328/54000 [===========================>..] - ETA: 12s - loss: 0.3117 - acc: 0.9036\n",
      "51456/54000 [===========================>..] - ETA: 11s - loss: 0.3113 - acc: 0.9037\n",
      "51584/54000 [===========================>..] - ETA: 11s - loss: 0.3109 - acc: 0.9038\n",
      "51712/54000 [===========================>..] - ETA: 10s - loss: 0.3104 - acc: 0.9040\n",
      "51840/54000 [===========================>..] - ETA: 10s - loss: 0.3100 - acc: 0.9041\n",
      "51968/54000 [===========================>..] - ETA: 9s - loss: 0.3095 - acc: 0.9043 \n",
      "52096/54000 [===========================>..] - ETA: 8s - loss: 0.3092 - acc: 0.9044\n",
      "52224/54000 [============================>.] - ETA: 8s - loss: 0.3088 - acc: 0.9045\n",
      "52352/54000 [============================>.] - ETA: 7s - loss: 0.3082 - acc: 0.9047\n",
      "52480/54000 [============================>.] - ETA: 7s - loss: 0.3078 - acc: 0.9048\n",
      "52608/54000 [============================>.] - ETA: 6s - loss: 0.3072 - acc: 0.9050\n",
      "52736/54000 [============================>.] - ETA: 5s - loss: 0.3069 - acc: 0.9051\n",
      "52864/54000 [============================>.] - ETA: 5s - loss: 0.3065 - acc: 0.9052\n"
     ]
    },
    {
     "name": "stdout",
     "output_type": "stream",
     "text": [
      "52992/54000 [============================>.] - ETA: 4s - loss: 0.3059 - acc: 0.9054\n",
      "53120/54000 [============================>.] - ETA: 4s - loss: 0.3056 - acc: 0.9055\n",
      "53248/54000 [============================>.] - ETA: 3s - loss: 0.3053 - acc: 0.9056\n",
      "53376/54000 [============================>.] - ETA: 2s - loss: 0.3048 - acc: 0.9058\n",
      "53504/54000 [============================>.] - ETA: 2s - loss: 0.3044 - acc: 0.9059\n",
      "53632/54000 [============================>.] - ETA: 1s - loss: 0.3039 - acc: 0.9060\n",
      "53760/54000 [============================>.] - ETA: 1s - loss: 0.3036 - acc: 0.9061\n",
      "53888/54000 [============================>.] - ETA: 0s - loss: 0.3030 - acc: 0.9063\n",
      "54000/54000 [==============================] - 263s 5ms/step - loss: 0.3028 - acc: 0.9064 - val_loss: 0.0592 - val_acc: 0.9835\n",
      "/usr/local/lib/python3.5/dist-packages/h5py/__init__.py:36: FutureWarning: Conversion of the second argument of issubdtype from `float` to `np.floating` is deprecated. In future, it will be treated as `np.float64 == np.dtype(float).type`.\n",
      "  from ._conv import register_converters as _register_converters\n",
      "Using TensorFlow backend.\n",
      "Test loss: 0.061496275620907544\n",
      "Test accuracy: 0.9804\n",
      "Model saved to file: /job/training-results-37e1f443-9e20-47f7-962d-43b68c4e26a3/keras_original_model.hdf5\n",
      "Model definition saved to file: /job/training-results-37e1f443-9e20-47f7-962d-43b68c4e26a3/keras_original_model.json\n",
      "Training process finished. Exit code: 0\n",
      "rpc error: code = Unknown desc = Error: No such container: 30bf4b9cf7202140dbd3733355a22224be1076c2e0f71349f1af1561d7ecd003\n"
     ]
    }
   ],
   "source": [
    "if \"Model ID\" in out[1]:\n",
    "    model_id = out.fields()[1][-1]\n",
    "    !{ffdl} logs --follow {model_id}"
   ]
  },
  {
   "cell_type": "markdown",
   "metadata": {},
   "source": [
    "## 4. Generate adversarial samples for a robustness check <a id=\"art\"></a>\n",
    "\n",
    "In this section, learn how to:\n",
    "- [4.1 Generate adversarial samples with ART (synchronously in notebook)](#artLocal)\n",
    "- [4.2 Generate adversarial samples with ART (asynchronously using FfDL)](#artWithFfDL)"
   ]
  },
  {
   "cell_type": "markdown",
   "metadata": {},
   "source": [
    "### 4.1 Generate adversarial samples with ART (synchronously in notebook) <a id=\"artLocal\"></a>\n",
    "\n",
    "This section shows how to use the ART Fast Gradient Method (FGM) to generate adversarial samples for the model previously trained synchronously in this notebook. \n",
    "\n",
    "A trained model is available in COS bucket as a result of the previous training step. ART can be used to check robustness of the trained model. \n",
    "\n",
    "Dataset used to train the model and the trained model serve as inputs to the robustness check python script. This information is available in training_data_bucket & training_result_bucket"
   ]
  },
  {
   "cell_type": "markdown",
   "metadata": {},
   "source": [
    "First, download the original data set and the trained model from Cloud Object Store."
   ]
  },
  {
   "cell_type": "code",
   "execution_count": 21,
   "metadata": {},
   "outputs": [],
   "source": [
    "dataset_filename = \"mnist.npz\"\n",
    "weights_filename = \"keras_original_model.hdf5\"\n",
    "network_definition_filename = \"keras_original_model.json\""
   ]
  },
  {
   "cell_type": "code",
   "execution_count": 22,
   "metadata": {},
   "outputs": [
    {
     "name": "stdout",
     "output_type": "stream",
     "text": [
      "training data bucket:   training-data-37e1f443-9e20-47f7-962d-43b68c4e26a3\n",
      "training result bucket: training-results-37e1f443-9e20-47f7-962d-43b68c4e26a3\n"
     ]
    }
   ],
   "source": [
    "# print COS buckets used in the previous training run\n",
    "\n",
    "print('training data bucket:  ', training_data_bucket)\n",
    "print('training result bucket:', training_result_bucket)"
   ]
  },
  {
   "cell_type": "code",
   "execution_count": 23,
   "metadata": {},
   "outputs": [
    {
     "name": "stdout",
     "output_type": "stream",
     "text": [
      "Downloaded keras_original_model.hdf5\n",
      "Downloaded keras_original_model.json\n"
     ]
    }
   ],
   "source": [
    "# download network definition and weights to current working directory\n",
    "\n",
    "weights_file_in_cos_bucket = os.path.join(model_id, weights_filename)\n",
    "network_definition_file_in_cos_bucket = os.path.join(model_id, network_definition_filename)\n",
    "\n",
    "bucket_obj = cos.Bucket(training_result_bucket)\n",
    "\n",
    "bucket_obj.download_file(weights_file_in_cos_bucket, weights_filename)\n",
    "print('Downloaded', weights_filename)\n",
    "\n",
    "bucket_obj.download_file(network_definition_file_in_cos_bucket, network_definition_filename)\n",
    "print('Downloaded', network_definition_filename)"
   ]
  },
  {
   "cell_type": "markdown",
   "metadata": {},
   "source": [
    "Download the original data set (mnist.npz)"
   ]
  },
  {
   "cell_type": "code",
   "execution_count": 24,
   "metadata": {},
   "outputs": [
    {
     "name": "stdout",
     "output_type": "stream",
     "text": [
      "Downloaded mnist.npz\n"
     ]
    }
   ],
   "source": [
    "# download dataset\n",
    "bucket_obj = cos.Bucket(training_data_bucket)\n",
    "bucket_obj.download_file(dataset_filename, dataset_filename)\n",
    "print('Downloaded', dataset_filename)"
   ]
  },
  {
   "cell_type": "markdown",
   "metadata": {},
   "source": [
    "Load & compile the model that we created using `convolutional_keras.py`"
   ]
  },
  {
   "cell_type": "code",
   "execution_count": 25,
   "metadata": {},
   "outputs": [
    {
     "name": "stdout",
     "output_type": "stream",
     "text": [
      "Network Definition: keras_original_model.json\n",
      "Weights:            keras_original_model.hdf5\n"
     ]
    }
   ],
   "source": [
    "import numpy as np\n",
    "import tensorflow as tf\n",
    "from keras import backend as K\n",
    "from keras.models import model_from_json\n",
    "\n",
    "print('Network Definition:', network_definition_filename)\n",
    "print('Weights:           ', weights_filename)\n",
    "\n",
    "# load model\n",
    "json_file = open(network_definition_filename, 'r')\n",
    "model_json = json_file.read()\n",
    "json_file.close()\n",
    "\n",
    "model = model_from_json(model_json)\n",
    "model.load_weights(weights_filename)\n",
    "comp_params = {'loss': 'categorical_crossentropy',\n",
    "                       'optimizer': 'adam',\n",
    "                       'metrics': ['accuracy']}\n",
    "model.compile(**comp_params)"
   ]
  },
  {
   "cell_type": "markdown",
   "metadata": {},
   "source": [
    "After loading & compiling the model, the next step is to create a KerasClassifier. ART exposes a function to do this."
   ]
  },
  {
   "cell_type": "code",
   "execution_count": 26,
   "metadata": {},
   "outputs": [],
   "source": [
    "# create ART classifier object\n",
    "from art.classifiers.keras import KerasClassifier\n",
    "\n",
    "classifier = KerasClassifier((0, 1), model)"
   ]
  },
  {
   "cell_type": "markdown",
   "metadata": {},
   "source": [
    "In the below cell, `mnist.npz` will be loaded and pre-processed."
   ]
  },
  {
   "cell_type": "code",
   "execution_count": 27,
   "metadata": {},
   "outputs": [],
   "source": [
    "from keras.utils import np_utils\n",
    "\n",
    "f = np.load(dataset_filename)\n",
    "x_original = f['x_test']\n",
    "y = f['y_test']"
   ]
  },
  {
   "cell_type": "markdown",
   "metadata": {},
   "source": [
    "Visualize the original (non-adversarial) sample"
   ]
  },
  {
   "cell_type": "code",
   "execution_count": 28,
   "metadata": {},
   "outputs": [
    {
     "name": "stdout",
     "output_type": "stream",
     "text": [
      "2\n"
     ]
    },
    {
     "data": {
      "image/png": "[encoded data removed]",
      "text/plain": [
       "<Figure size 432x288 with 1 Axes>"
      ]
     },
     "metadata": {},
     "output_type": "display_data"
    }
   ],
   "source": [
    "%matplotlib inline\n",
    "import matplotlib.pyplot as plt\n",
    "import numpy as np\n",
    "\n",
    "plt.imshow(x_original[1], cmap='gray')\n",
    "print(y[1])"
   ]
  },
  {
   "cell_type": "markdown",
   "metadata": {},
   "source": [
    "In the next cell, the numpy array is standardized."
   ]
  },
  {
   "cell_type": "code",
   "execution_count": 29,
   "metadata": {},
   "outputs": [],
   "source": [
    "# preprocess\n",
    "x_original = np.expand_dims(x_original, axis=3)\n",
    "x_original = x_original.astype('float32') / 255\n",
    "y = np_utils.to_categorical(y, 10)"
   ]
  },
  {
   "cell_type": "markdown",
   "metadata": {},
   "source": [
    "In the below cell, the model will be evaluated and test accuracy will be calculated."
   ]
  },
  {
   "cell_type": "code",
   "execution_count": 30,
   "metadata": {},
   "outputs": [
    {
     "name": "stdout",
     "output_type": "stream",
     "text": [
      "model test loss:     6.149627626761794\n",
      "model test accuracy: 98.04\n"
     ]
    }
   ],
   "source": [
    "# evaluate\n",
    "scores = model.evaluate(x_original, y, verbose=0)\n",
    "print('model test loss:    ', scores[0]*100)\n",
    "print('model test accuracy:', scores[1]*100)\n",
    "model_accuracy = scores[1]*100"
   ]
  },
  {
   "cell_type": "markdown",
   "metadata": {},
   "source": [
    "ART exposes many attacks like FGM, NewtonFool, DeepFool, Carlini etc. The code below shows how to use one of ART's attack methods (Fast Gradient Method or FGM) to craft adversarial samples based on x_test"
   ]
  },
  {
   "cell_type": "code",
   "execution_count": 31,
   "metadata": {},
   "outputs": [
    {
     "name": "stdout",
     "output_type": "stream",
     "text": [
      "Number of adversarial samples crafted: 10000\n",
      "adversarial samples saved to: etc/notebooks/art/adv_samples\n"
     ]
    }
   ],
   "source": [
    "from art.attacks.fast_gradient import FastGradientMethod\n",
    "\n",
    "# configuration\n",
    "epsilon = 0.2\n",
    "\n",
    "# create crafter object\n",
    "crafter = FastGradientMethod(classifier, eps=epsilon)\n",
    "\n",
    "# craft samples on x_test (stored in variable x_original)\n",
    "x_adv_samples = crafter.generate(x_original)\n",
    "\n",
    "outfile = os.path.join(os.getcwd(), 'adv_samples')\n",
    "np.savez(outfile, x_original=x_original, x_adversarial=x_adv_samples, y=y)\n",
    "\n",
    "print(\"Number of adversarial samples crafted:\", len(x_adv_samples))\n",
    "print(\"adversarial samples saved to:\", outfile)"
   ]
  },
  {
   "cell_type": "markdown",
   "metadata": {},
   "source": [
    "The below functions can be used for gathering metrics like model robustness, confidence metric, perturbation metric"
   ]
  },
  {
   "cell_type": "code",
   "execution_count": 32,
   "metadata": {},
   "outputs": [],
   "source": [
    "import numpy.linalg as la\n",
    "import json\n",
    "\n",
    "\n",
    "def get_metrics(model, x_original, x_adv_samples, y):\n",
    "    scores = model.evaluate(x_original, y, verbose=0)\n",
    "    model_accuracy_on_non_adversarial_samples = scores[1] * 100\n",
    "\n",
    "    y_pred = model.predict(x_original, verbose=0)\n",
    "    y_pred_adv = model.predict(x_adv_samples, verbose=0)\n",
    "\n",
    "    scores = model.evaluate(x_adv_samples, y, verbose=0)\n",
    "    model_accuracy_on_adversarial_samples = scores[1] * 100\n",
    "\n",
    "    pert_metric = get_perturbation_metric(x_original, x_adv_samples, y_pred, y_pred_adv, ord=2)\n",
    "    conf_metric = get_confidence_metric(y_pred, y_pred_adv)\n",
    "\n",
    "    data = {\n",
    "        \"model accuracy on test data:\": model_accuracy_on_non_adversarial_samples,\n",
    "        \"model accuracy on adversarial samples\": model_accuracy_on_adversarial_samples,\n",
    "        \"reduction in confidence\": conf_metric * 100,\n",
    "        \"average perturbation\": pert_metric * 100\n",
    "    }\n",
    "    return data\n",
    "\n",
    "\n",
    "def get_perturbation_metric(x_original, x_adv, y_pred, y_pred_adv, ord=2):\n",
    "\n",
    "    idxs = (np.argmax(y_pred_adv, axis=1) != np.argmax(y_pred, axis=1))\n",
    "\n",
    "    if np.sum(idxs) == 0.0:\n",
    "        return 0\n",
    "\n",
    "    perts_norm = la.norm((x_adv - x_original).reshape(x_original.shape[0], -1), ord, axis=1)\n",
    "    perts_norm = perts_norm[idxs]\n",
    "\n",
    "    return np.mean(perts_norm / la.norm(x_original[idxs].reshape(np.sum(idxs), -1), ord, axis=1))\n",
    "\n",
    "\n",
    "# This computes the change in confidence for all images in the test set\n",
    "def get_confidence_metric(y_pred, y_pred_adv):\n",
    "\n",
    "    y_classidx = np.argmax(y_pred, axis=1)\n",
    "    y_classconf = y_pred[np.arange(y_pred.shape[0]), y_classidx]\n",
    "\n",
    "    y_adv_classidx = np.argmax(y_pred_adv, axis=1)\n",
    "    y_adv_classconf = y_pred_adv[np.arange(y_pred_adv.shape[0]), y_adv_classidx]\n",
    "\n",
    "    idxs = (y_classidx == y_adv_classidx)\n",
    "\n",
    "    if np.sum(idxs) == 0.0:\n",
    "        return 0\n",
    "\n",
    "    idxnonzero = y_classconf != 0\n",
    "    idxs = idxs & idxnonzero\n",
    "\n",
    "    return np.mean((y_classconf[idxs] - y_adv_classconf[idxs]) / y_classconf[idxs])"
   ]
  },
  {
   "cell_type": "markdown",
   "metadata": {},
   "source": [
    "The below cell will display the following\n",
    "\n",
    "1. Model accuracy on test data\n",
    "2. Model robustness on adversarial samples\n",
    "3. Reduction in confidence\n",
    "4. Perturbation metric"
   ]
  },
  {
   "cell_type": "code",
   "execution_count": 33,
   "metadata": {},
   "outputs": [
    {
     "name": "stdout",
     "output_type": "stream",
     "text": [
      "{\n",
      "    \"average perturbation\": 46.828266978263855,\n",
      "    \"model accuracy on adversarial samples\": 54.120000000000005,\n",
      "    \"model accuracy on test data:\": 98.04,\n",
      "    \"reduction in confidence\": 29.92871403694153\n",
      "}\n"
     ]
    }
   ],
   "source": [
    "result = get_metrics(model,x_original,x_adv_samples, y)\n",
    "\n",
    "print(json.dumps(result, indent=4, sort_keys=True))"
   ]
  },
  {
   "cell_type": "code",
   "execution_count": 34,
   "metadata": {},
   "outputs": [],
   "source": [
    "# convert the numpy array, so that the adversarial images can be visualized\n",
    "\n",
    "x_adv = (x_adv_samples * 255).astype('int')\n",
    "x_adv = x_adv[:, :, :, 0]\n",
    "y = np.argmax(y, axis=1)"
   ]
  },
  {
   "cell_type": "markdown",
   "metadata": {},
   "source": [
    "And visualize an adversarial samples"
   ]
  },
  {
   "cell_type": "code",
   "execution_count": 35,
   "metadata": {},
   "outputs": [
    {
     "data": {
      "image/png": "[encoded data removed]",
      "text/plain": [
       "<Figure size 432x288 with 1 Axes>"
      ]
     },
     "metadata": {},
     "output_type": "display_data"
    }
   ],
   "source": [
    "plt.imshow(x_adv[1], cmap='gray');"
   ]
  },
  {
   "cell_type": "markdown",
   "metadata": {},
   "source": [
    "### 4.2 Generate adversarial samples with ART (asynchronously using FfDL) <a id=\"artWithFfDL\"></a>\n",
    "\n",
    "As its name suggests, FGM is a relatively short running method to generate adversarial samples. Other attack techniques can take much longer and therefore you may want to use additional computing resources and generate adversarial samples through an asynchronous Watsom ML training request. This section shows how to gather the relevant information to execute FGM as an asynchronous FfDL training job. "
   ]
  },
  {
   "cell_type": "markdown",
   "metadata": {},
   "source": [
    "Lets first create two COS buckets."
   ]
  },
  {
   "cell_type": "code",
   "execution_count": 36,
   "metadata": {},
   "outputs": [
    {
     "name": "stdout",
     "output_type": "stream",
     "text": [
      "Creating bucket \"robustnesscheck-data-136f29a1-9735-4f6c-8901-ef9426f2aeef\" ...\n",
      "Creating bucket \"robustnesscheck-results-136f29a1-9735-4f6c-8901-ef9426f2aeef\" ...\n"
     ]
    }
   ],
   "source": [
    "from uuid import uuid4\n",
    "\n",
    "bucket_uid = str(uuid4())\n",
    "buckets = ['robustnesscheck-data-' + bucket_uid,\n",
    "           'robustnesscheck-results-' + bucket_uid]\n",
    "\n",
    "for bucket in buckets:\n",
    "    print('Creating bucket \"{}\" ...'.format(bucket))\n",
    "    try:\n",
    "        cos.create_bucket(Bucket=bucket)\n",
    "    except ibm_boto3.exceptions.ibm_botocore.client.ClientError as e:\n",
    "        print('Error: {}.'.format(e.response['Error']['Message']))"
   ]
  },
  {
   "cell_type": "code",
   "execution_count": 37,
   "metadata": {},
   "outputs": [],
   "source": [
    "robustnesscheck_data_bucket = buckets[0]\n",
    "robustnesscheck_result_bucket = buckets[1]"
   ]
  },
  {
   "cell_type": "markdown",
   "metadata": {},
   "source": [
    "Upload all the artifacts (`mnist.npz`, `keras_original_model.json`, `keras_original_model.hdf5`) to the `robustnesscheck_data_bucket`"
   ]
  },
  {
   "cell_type": "code",
   "execution_count": 38,
   "metadata": {},
   "outputs": [
    {
     "name": "stdout",
     "output_type": "stream",
     "text": [
      "mnist.npz is uploaded to robustnesscheck-data-136f29a1-9735-4f6c-8901-ef9426f2aeef.\n",
      "keras_original_model.hdf5 is uploaded to robustnesscheck-data-136f29a1-9735-4f6c-8901-ef9426f2aeef.\n",
      "keras_original_model.json is uploaded to robustnesscheck-data-136f29a1-9735-4f6c-8901-ef9426f2aeef.\n"
     ]
    }
   ],
   "source": [
    "# upload\n",
    "\n",
    "bucket_obj = cos.Bucket(robustnesscheck_data_bucket)\n",
    "bucket_obj.upload_file(dataset_filename, dataset_filename)\n",
    "print('{} is uploaded to {}.'.format(dataset_filename, robustnesscheck_data_bucket))\n",
    "\n",
    "bucket_obj.upload_file(weights_filename, weights_filename)\n",
    "print('{} is uploaded to {}.'.format(weights_filename, robustnesscheck_data_bucket))\n",
    "\n",
    "bucket_obj = cos.Bucket(robustnesscheck_data_bucket)\n",
    "bucket_obj.upload_file(network_definition_filename, network_definition_filename)\n",
    "print('{} is uploaded to {}.'.format(network_definition_filename, robustnesscheck_data_bucket))"
   ]
  },
  {
   "cell_type": "markdown",
   "metadata": {
    "collapsed": true
   },
   "source": [
    "Create a Python script that generates adversarial samples to check robustness using FGM (Fast Gradient Method) from the ART library"
   ]
  },
  {
   "cell_type": "code",
   "execution_count": 39,
   "metadata": {},
   "outputs": [],
   "source": [
    "script_filename  = \"robustness_check.py\"\n",
    "archive_filename = 'model.zip'"
   ]
  },
  {
   "cell_type": "code",
   "execution_count": 40,
   "metadata": {},
   "outputs": [
    {
     "name": "stdout",
     "output_type": "stream",
     "text": [
      "Writing robustness_check.py\n"
     ]
    }
   ],
   "source": [
    "%%writefile $script_filename\n",
    "\n",
    "import os\n",
    "import sys\n",
    "import numpy as np\n",
    "import numpy.linalg as la\n",
    "import json\n",
    "\n",
    "from keras.models import model_from_json\n",
    "from art.classifiers.keras import KerasClassifier\n",
    "from keras.utils import np_utils\n",
    "from art.attacks.fast_gradient import FastGradientMethod\n",
    "\n",
    "\n",
    "def get_metrics(model, x_original, x_adv_samples, y):\n",
    "    scores = model.evaluate(x_original, y, verbose=0)\n",
    "    model_accuracy_on_non_adversarial_samples = scores[1] * 100\n",
    "\n",
    "    y_pred = model.predict(x_original, verbose=0)\n",
    "    y_pred_adv = model.predict(x_adv_samples, verbose=0)\n",
    "\n",
    "    scores = model.evaluate(x_adv_samples, y, verbose=0)\n",
    "    model_accuracy_on_adversarial_samples = scores[1] * 100\n",
    "\n",
    "    pert_metric = get_perturbation_metric(x_original, x_adv_samples, y_pred, y_pred_adv, ord=2)\n",
    "    conf_metric = get_confidence_metric(y_pred, y_pred_adv)\n",
    "\n",
    "    data = {\n",
    "        \"model accuracy on test data:\": model_accuracy_on_non_adversarial_samples,\n",
    "        \"model accuracy on adversarial samples\": model_accuracy_on_adversarial_samples,\n",
    "        \"reduction in confidence\": conf_metric * 100,\n",
    "        \"average perturbation\": pert_metric * 100\n",
    "    }\n",
    "    return data\n",
    "\n",
    "\n",
    "def get_perturbation_metric(x_original, x_adv, y_pred, y_pred_adv, ord=2):\n",
    "\n",
    "    idxs = (np.argmax(y_pred_adv, axis=1) != np.argmax(y_pred, axis=1))\n",
    "\n",
    "    if np.sum(idxs) == 0.0:\n",
    "        return 0\n",
    "\n",
    "    perts_norm = la.norm((x_adv - x_original).reshape(x_original.shape[0], -1), ord, axis=1)\n",
    "    perts_norm = perts_norm[idxs]\n",
    "\n",
    "    return np.mean(perts_norm / la.norm(x_original[idxs].reshape(np.sum(idxs), -1), ord, axis=1))\n",
    "\n",
    "\n",
    "# This computes the change in confidence for all images in the test set\n",
    "def get_confidence_metric(y_pred, y_pred_adv):\n",
    "\n",
    "    y_classidx = np.argmax(y_pred, axis=1)\n",
    "    y_classconf = y_pred[np.arange(y_pred.shape[0]), y_classidx]\n",
    "\n",
    "    y_adv_classidx = np.argmax(y_pred_adv, axis=1)\n",
    "    y_adv_classconf = y_pred_adv[np.arange(y_pred_adv.shape[0]), y_adv_classidx]\n",
    "\n",
    "    idxs = (y_classidx == y_adv_classidx)\n",
    "\n",
    "    if np.sum(idxs) == 0.0:\n",
    "        return 0\n",
    "\n",
    "    idxnonzero = y_classconf != 0\n",
    "    idxs = idxs & idxnonzero\n",
    "\n",
    "    return np.mean((y_classconf[idxs] - y_adv_classconf[idxs]) / y_classconf[idxs])\n",
    "\n",
    "\n",
    "def main(argv):\n",
    "    if len(argv) < 2:\n",
    "        sys.exit(\"Not enough arguments provided.\")\n",
    "\n",
    "    global network_definition_filename, weights_filename, dataset_filename\n",
    "\n",
    "    i = 1\n",
    "    while i <= 8:\n",
    "        arg = str(argv[i])\n",
    "        print(arg)\n",
    "        if arg == \"--data\":\n",
    "            dataset_filename = os.path.join(os.environ[\"DATA_DIR\"], str(argv[i+1]))\n",
    "        if arg == \"--networkdefinition\":\n",
    "            network_definition_filename = os.path.join(os.environ[\"DATA_DIR\"], str(argv[i+1]))\n",
    "        if arg == \"--weights\":\n",
    "            weights_filename = os.path.join(os.environ[\"DATA_DIR\"], str(argv[i+1]))\n",
    "        if arg == \"--epsilon\":\n",
    "            epsilon = float(argv[i+1])\n",
    "\n",
    "        i += 2\n",
    "\n",
    "    print(\"dataset : \", dataset_filename)\n",
    "    print(\"network definition : \", network_definition_filename)\n",
    "    print(\"weights : \" ,weights_filename)\n",
    "\n",
    "    # load & compile model\n",
    "    json_file = open(network_definition_filename, 'r')\n",
    "    model_json = json_file.read()\n",
    "    json_file.close()\n",
    "    model = model_from_json(model_json)\n",
    "    model.load_weights(weights_filename)\n",
    "    comp_params = {'loss': 'categorical_crossentropy',\n",
    "                   'optimizer': 'adam',\n",
    "                   'metrics': ['accuracy']}\n",
    "    model.compile(**comp_params)\n",
    "\n",
    "    # create keras classifier\n",
    "    classifier = KerasClassifier((0, 1), model)\n",
    "\n",
    "    # load data set\n",
    "    pf = np.load(dataset_filename)\n",
    "\n",
    "    x = pf['x_test']\n",
    "    y = pf['y_test']\n",
    "\n",
    "    # pre-process numpy array\n",
    "\n",
    "    x = np.expand_dims(x, axis=3)\n",
    "    x = x.astype('float32') / 255\n",
    "\n",
    "    y = np_utils.to_categorical(y, 10)\n",
    "\n",
    "    # craft adversarial samples using FGSM\n",
    "    crafter = FastGradientMethod(classifier, eps=epsilon)\n",
    "    x_samples = crafter.generate(x)\n",
    "\n",
    "    # obtain all metrics (robustness score, perturbation metric, reduction in confidence)\n",
    "    metrics = get_metrics(model, x,x_samples, y)\n",
    "\n",
    "    print(\"metrics : \", metrics)\n",
    "    \n",
    "    report_file = os.path.join(os.environ[\"RESULT_DIR\"], \"report.txt\")\n",
    "\n",
    "    with open(report_file, \"w\") as report:\n",
    "        report.write(json.dumps(metrics))\n",
    "    \n",
    "    adv_samples_file = os.path.join(os.environ[\"RESULT_DIR\"], 'adv_samples')\n",
    "    print(\"adversarial samples saved to : \", adv_samples_file)\n",
    "    np.savez(adv_samples_file, x_original=x, x_adversarial=x_samples, y=y)\n",
    "\n",
    "\n",
    "if __name__ == \"__main__\":\n",
    "    main(sys.argv)"
   ]
  },
  {
   "cell_type": "markdown",
   "metadata": {},
   "source": [
    "Create a zip archive (TODO: NOT that contains the ART library along with) `robustness_check.py` code"
   ]
  },
  {
   "cell_type": "code",
   "execution_count": 41,
   "metadata": {
    "scrolled": true
   },
   "outputs": [
    {
     "name": "stdout",
     "output_type": "stream",
     "text": [
      "  adding: robustness_check.py (deflated 67%)\r\n"
     ]
    }
   ],
   "source": [
    "# create zip archive\n",
    "# TODO: exclude folder like .git ?\n",
    "# !zip model.zip -r ./adversarial-robustness-toolbox robustness_check.py -x *.git*\n",
    "!zip -r {archive_filename} {script_filename}"
   ]
  },
  {
   "cell_type": "markdown",
   "metadata": {},
   "source": [
    "#### Prepare model definition metadata. \n",
    "\n",
    "<b> Note: </b> Execution command points to `robustness_check.py` and four arguments are passed to the script.\n",
    "\n",
    "1. data (`mnist.npz`)\n",
    "2. networkdefinition (`keras_original_model.json`)\n",
    "3. weights (`keras_original_model.hdf5`)\n",
    "4. epsilon (`0.2` or `0.1`)"
   ]
  },
  {
   "cell_type": "code",
   "execution_count": 42,
   "metadata": {},
   "outputs": [],
   "source": [
    "training_command = \"\\\n",
    "pip3 install keras; \\\n",
    "pip install https://github.com/IBM/adversarial-robustness-toolbox/zipball/master; \\\n",
    "python3 robustness_check.py \\\n",
    "  --epsilon 0.2 \\\n",
    "  --data ${DATA_DIR}/mnist.npz \\\n",
    "  --networkdefinition ${DATA_DIR}/keras_original_model.json \\\n",
    "  --weights ${DATA_DIR}/keras_original_model.hdf5\"\n",
    "\n",
    "manifest = {\n",
    "  \"name\": \"art_robustness_check\",\n",
    "  \"description\": \"Generates adversarial samples to check robustness using FGM\",\n",
    "  \"version\": \"1.0\",\n",
    "  \"gpus\": 0,\n",
    "  \"cpus\": 2,\n",
    "  \"memory\": \"2Gb\",\n",
    "  \"data_stores\": [\n",
    "    {\n",
    "      \"id\": \"sl-internal-os\",\n",
    "      \"type\": \"s3_datastore\",\n",
    "      \"training_data\": {\n",
    "        \"container\": robustnesscheck_data_bucket\n",
    "      },\n",
    "      \"training_results\": {\n",
    "        \"container\": robustnesscheck_result_bucket\n",
    "      },\n",
    "      \"connection\": {\n",
    "        \"type\": \"s3_datastore\",\n",
    "        \"auth_url\": cos_service_endpoint,\n",
    "        \"user_name\": cos_credentials['cos_hmac_keys']['access_key_id'],\n",
    "        \"password\": cos_credentials['cos_hmac_keys']['secret_access_key']\n",
    "      }\n",
    "    }\n",
    "  ],\n",
    "  \"framework\": {\n",
    "    \"name\": \"tensorflow\",\n",
    "    \"version\": \"1.5.0-py3\",\n",
    "    \"command\": training_command\n",
    "  },\n",
    "  \"evaluation_metrics\": {\n",
    "    \"type\": \"tensorboard\",\n",
    "    \"in\": \"$JOB_STATE_DIR/logs/tb\"\n",
    "  }\n",
    "}\n",
    "\n",
    "yaml.dump(manifest, open(\"manifest.yml\", \"w\"), default_flow_style=False)"
   ]
  },
  {
   "cell_type": "markdown",
   "metadata": {},
   "source": [
    "Training metadata to configure the adversarial sample generation based on FGM has been gathered and can now be passed to a training job with FfDL. "
   ]
  },
  {
   "cell_type": "code",
   "execution_count": 43,
   "metadata": {},
   "outputs": [
    {
     "data": {
      "text/plain": [
       "[\"Deploying model with manifest 'manifest.yml' and model file 'model.zip'...\",\n",
       " 'Model ID: training-e1S2uaIig',\n",
       " 'OK']"
      ]
     },
     "execution_count": 43,
     "metadata": {},
     "output_type": "execute_result"
    }
   ],
   "source": [
    "# Start training execution\n",
    "\n",
    "out = !{ffdl} train \"manifest.yml\" \"model.zip\"\n",
    "out"
   ]
  },
  {
   "cell_type": "code",
   "execution_count": 44,
   "metadata": {},
   "outputs": [
    {
     "name": "stdout",
     "output_type": "stream",
     "text": [
      "Getting model training logs for '\u001b[1;36mtraining-e1S2uaIig\u001b[0m'...\n",
      "Status: PENDING\n",
      "Status: Not Started\n",
      "Training with training/test data at:\n",
      "  DATA_DIR: /job/robustnesscheck-data-136f29a1-9735-4f6c-8901-ef9426f2aeef\n",
      "  MODEL_DIR: /job/model-code\n",
      "  TRAINING_JOB: \n",
      "  TRAINING_COMMAND: pip3 install keras; pip install https://github.com/IBM/adversarial-robustness-toolbox/zipball/master; python3 robustness_check.py   --epsilon 0.2   --data ${DATA_DIR}/mnist.npz   --networkdefinition ${DATA_DIR}/keras_original_model.json   --weights ${DATA_DIR}/keras_original_model.hdf5\n",
      "Storing trained model at:\n",
      "  RESULT_DIR: /job/robustnesscheck-results-136f29a1-9735-4f6c-8901-ef9426f2aeef\n",
      "Contents of $MODEL_DIR\n",
      "total 20\n",
      "drwxrwxrwx 2 6342627 root 4096 Jun  9 01:40 .\n",
      "drwxrwxrwx 6 root    root 4096 Jun  9 01:40 ..\n",
      "-rwxrwxrwx 1 6342627 root 2650 Jun  8 18:29 convolutional_keras.py\n",
      "-rwxrwxrwx 1 6342627 root 4560 Jun  8 18:39 robustness_check.py\n",
      "Contents of $DATA_DIR\n",
      "total 25332\n",
      "drwxr-xr-x 2 6342627 root     4096 Jun  9 01:40 .\n",
      "drwxrwxrwx 6 root    root     4096 Jun  9 01:40 ..\n",
      "-rw-r--r-- 1 6342627 root 14430768 Jun  9 01:39 keras_original_model.hdf5\n",
      "-rw-r--r-- 1 6342627 root     2813 Jun  9 01:39 keras_original_model.json\n",
      "-rw-r--r-- 1 6342627 root 11490434 Jun  9 01:39 mnist.npz\n",
      "DATA_DIR=/job/robustnesscheck-data-136f29a1-9735-4f6c-8901-ef9426f2aeef\n",
      "ELASTICSEARCH_PORT=tcp://172.21.40.112:9200\n",
      "ELASTICSEARCH_PORT_9200_TCP=tcp://172.21.40.112:9200\n",
      "ELASTICSEARCH_PORT_9200_TCP_ADDR=172.21.40.112\n",
      "ELASTICSEARCH_PORT_9200_TCP_PORT=9200\n",
      "ELASTICSEARCH_PORT_9200_TCP_PROTO=tcp\n",
      "ELASTICSEARCH_SERVICE_HOST=172.21.40.112\n",
      "ELASTICSEARCH_SERVICE_PORT=9200\n",
      "ELASTICSEARCH_SERVICE_PORT_HTTP=9200\n",
      "FFDL_LCM_PORT=tcp://172.21.112.20:80\n",
      "FFDL_LCM_PORT_80_TCP=tcp://172.21.112.20:80\n",
      "FFDL_LCM_PORT_80_TCP_ADDR=172.21.112.20\n",
      "FFDL_LCM_PORT_80_TCP_PORT=80\n",
      "FFDL_LCM_PORT_80_TCP_PROTO=tcp\n",
      "FFDL_LCM_SERVICE_HOST=172.21.112.20\n",
      "FFDL_LCM_SERVICE_PORT=80\n",
      "FFDL_LCM_SERVICE_PORT_GRPC=80\n",
      "FFDL_RESTAPI_PORT=tcp://172.21.130.217:80\n",
      "FFDL_RESTAPI_PORT_80_TCP=tcp://172.21.130.217:80\n",
      "FFDL_RESTAPI_PORT_80_TCP_ADDR=172.21.130.217\n",
      "FFDL_RESTAPI_PORT_80_TCP_PORT=80\n",
      "FFDL_RESTAPI_PORT_80_TCP_PROTO=tcp\n",
      "FFDL_RESTAPI_SERVICE_HOST=172.21.130.217\n",
      "FFDL_RESTAPI_SERVICE_PORT=80\n",
      "FFDL_RESTAPI_SERVICE_PORT_FFDL=80\n",
      "FFDL_TRAINER_PORT=tcp://172.21.226.67:80\n",
      "FFDL_TRAINER_PORT_80_TCP=tcp://172.21.226.67:80\n",
      "FFDL_TRAINER_PORT_80_TCP_ADDR=172.21.226.67\n",
      "FFDL_TRAINER_PORT_80_TCP_PORT=80\n",
      "FFDL_TRAINER_PORT_80_TCP_PROTO=tcp\n",
      "FFDL_TRAINER_SERVICE_HOST=172.21.226.67\n",
      "FFDL_TRAINER_SERVICE_PORT=80\n",
      "FFDL_TRAINER_SERVICE_PORT_GRPC=80\n",
      "FFDL_TRAININGDATA_PORT=tcp://172.21.106.158:80\n",
      "FFDL_TRAININGDATA_PORT_80_TCP=tcp://172.21.106.158:80\n",
      "FFDL_TRAININGDATA_PORT_80_TCP_ADDR=172.21.106.158\n",
      "FFDL_TRAININGDATA_PORT_80_TCP_PORT=80\n",
      "FFDL_TRAININGDATA_PORT_80_TCP_PROTO=tcp\n",
      "FFDL_TRAININGDATA_SERVICE_HOST=172.21.106.158\n",
      "FFDL_TRAININGDATA_SERVICE_PORT=80\n",
      "FFDL_TRAININGDATA_SERVICE_PORT_GRPC=80\n",
      "FFDL_UI_PORT=tcp://172.21.201.22:80\n",
      "FFDL_UI_PORT_80_TCP=tcp://172.21.201.22:80\n",
      "FFDL_UI_PORT_80_TCP_ADDR=172.21.201.22\n",
      "FFDL_UI_PORT_80_TCP_PORT=80\n",
      "FFDL_UI_PORT_80_TCP_PROTO=tcp\n",
      "FFDL_UI_SERVICE_HOST=172.21.201.22\n",
      "FFDL_UI_SERVICE_PORT=80\n",
      "FFDL_UI_SERVICE_PORT_HTTP=80\n",
      "GPU_COUNT=0.000000\n",
      "HOME=/root\n",
      "JOB_STATE_DIR=/job\n",
      "LEARNER_ID=1\n",
      "LOG_DIR=/job/logs\n",
      "MODEL_DIR=/job/model-code\n",
      "OLDPWD=/notebooks\n",
      "PATH=/usr/local/bin/:/usr/local/sbin:/usr/local/bin:/usr/sbin:/usr/bin:/sbin:/bin\n",
      "PROMETHEUS_PORT=tcp://172.21.53.216:9090\n",
      "PROMETHEUS_PORT_9090_TCP=tcp://172.21.53.216:9090\n",
      "PROMETHEUS_PORT_9090_TCP_ADDR=172.21.53.216\n",
      "PROMETHEUS_PORT_9090_TCP_PORT=9090\n",
      "PROMETHEUS_PORT_9090_TCP_PROTO=tcp\n",
      "PROMETHEUS_SERVICE_HOST=172.21.53.216\n",
      "PROMETHEUS_SERVICE_PORT=9090\n",
      "PROMETHEUS_SERVICE_PORT_PROMETHEUS=9090\n",
      "PWD=/job/model-code\n",
      "PYTHONPATH=:/job/model-code\n",
      "RESULT_DIR=/job/robustnesscheck-results-136f29a1-9735-4f6c-8901-ef9426f2aeef\n",
      "S3_PORT=tcp://172.21.95.18:80\n",
      "S3_PORT_80_TCP=tcp://172.21.95.18:80\n",
      "S3_PORT_80_TCP_ADDR=172.21.95.18\n",
      "S3_PORT_80_TCP_PORT=80\n",
      "S3_PORT_80_TCP_PROTO=tcp\n",
      "S3_SERVICE_HOST=172.21.95.18\n",
      "S3_SERVICE_PORT=80\n",
      "SHLVL=3\n",
      "TRAINING_COMMAND=pip3 install keras; pip install https://github.com/IBM/adversarial-robustness-toolbox/zipball/master; python3 robustness_check.py   --epsilon 0.2   --data ${DATA_DIR}/mnist.npz   --networkdefinition ${DATA_DIR}/keras_original_model.json   --weights ${DATA_DIR}/keras_original_model.hdf5\n",
      "TRAINING_ID=training-e1S2uaIig\n",
      "_=/usr/bin/env\n",
      "Sat Jun  9 01:40:42 UTC 2018: Running training job\n",
      "Collecting keras\n",
      "  Downloading https://files.pythonhosted.org/packages/68/12/4cabc5c01451eb3b413d19ea151f36e33026fc0efb932bf51bcaf54acbf5/Keras-2.2.0-py2.py3-none-any.whl (300kB)\n",
      "Collecting keras-applications==1.0.2 (from keras)\n",
      "  Downloading https://files.pythonhosted.org/packages/e2/60/c557075e586e968d7a9c314aa38c236b37cb3ee6b37e8d57152b1a5e0b47/Keras_Applications-1.0.2-py2.py3-none-any.whl (43kB)\n",
      "Requirement already satisfied: six>=1.9.0 in /usr/local/lib/python3.5/dist-packages (from keras)\n",
      "Requirement already satisfied: numpy>=1.9.1 in /usr/local/lib/python3.5/dist-packages (from keras)\n",
      "Requirement already satisfied: scipy>=0.14 in /usr/local/lib/python3.5/dist-packages (from keras)\n",
      "Collecting pyyaml (from keras)\n",
      "  Downloading https://files.pythonhosted.org/packages/4a/85/db5a2df477072b2902b0eb892feb37d88ac635d36245a72a6a69b23b383a/PyYAML-3.12.tar.gz (253kB)\n",
      "Requirement already satisfied: h5py in /usr/local/lib/python3.5/dist-packages (from keras)\n",
      "Collecting keras-preprocessing==1.0.1 (from keras)\n",
      "  Downloading https://files.pythonhosted.org/packages/f8/33/275506afe1d96b221f66f95adba94d1b73f6b6087cfb6132a5655b6fe338/Keras_Preprocessing-1.0.1-py2.py3-none-any.whl\n",
      "Building wheels for collected packages: pyyaml\n",
      "  Running setup.py bdist_wheel for pyyaml: started\n",
      "  Running setup.py bdist_wheel for pyyaml: finished with status 'done'\n",
      "  Stored in directory: /root/.cache/pip/wheels/03/05/65/bdc14f2c6e09e82ae3e0f13d021e1b6b2481437ea2f207df3f\n",
      "Successfully built pyyaml\n",
      "Installing collected packages: keras-applications, pyyaml, keras-preprocessing, keras\n",
      "Successfully installed keras-2.2.0 keras-applications-1.0.2 keras-preprocessing-1.0.1 pyyaml-3.12\n",
      "You are using pip version 9.0.1, however version 10.0.1 is available.\n",
      "You should consider upgrading via the 'pip install --upgrade pip' command.\n",
      "Collecting https://github.com/IBM/adversarial-robustness-toolbox/zipball/master\n",
      "  Downloading https://github.com/IBM/adversarial-robustness-toolbox/zipball/master\n",
      "Requirement already satisfied: h5py in /usr/local/lib/python3.5/dist-packages (from adversarial-robustness-toolbox==0.1)\n",
      "Requirement already satisfied: Keras in /usr/local/lib/python3.5/dist-packages (from adversarial-robustness-toolbox==0.1)\n",
      "Requirement already satisfied: scipy in /usr/local/lib/python3.5/dist-packages (from adversarial-robustness-toolbox==0.1)\n",
      "Requirement already satisfied: matplotlib in /usr/local/lib/python3.5/dist-packages (from adversarial-robustness-toolbox==0.1)\n",
      "Requirement already satisfied: setuptools in /usr/local/lib/python3.5/dist-packages (from adversarial-robustness-toolbox==0.1)\n",
      "Requirement already satisfied: numpy>=1.7 in /usr/local/lib/python3.5/dist-packages (from h5py->adversarial-robustness-toolbox==0.1)\n",
      "Requirement already satisfied: six in /usr/local/lib/python3.5/dist-packages (from h5py->adversarial-robustness-toolbox==0.1)\n",
      "Requirement already satisfied: keras-preprocessing==1.0.1 in /usr/local/lib/python3.5/dist-packages (from Keras->adversarial-robustness-toolbox==0.1)\n",
      "Requirement already satisfied: pyyaml in /usr/local/lib/python3.5/dist-packages (from Keras->adversarial-robustness-toolbox==0.1)\n",
      "Requirement already satisfied: keras-applications==1.0.2 in /usr/local/lib/python3.5/dist-packages (from Keras->adversarial-robustness-toolbox==0.1)\n",
      "Requirement already satisfied: python-dateutil>=2.1 in /usr/local/lib/python3.5/dist-packages (from matplotlib->adversarial-robustness-toolbox==0.1)\n",
      "Requirement already satisfied: cycler>=0.10 in /usr/local/lib/python3.5/dist-packages (from matplotlib->adversarial-robustness-toolbox==0.1)\n",
      "Requirement already satisfied: pyparsing!=2.0.4,!=2.1.2,!=2.1.6,>=2.0.1 in /usr/local/lib/python3.5/dist-packages (from matplotlib->adversarial-robustness-toolbox==0.1)\n",
      "Requirement already satisfied: pytz in /usr/local/lib/python3.5/dist-packages (from matplotlib->adversarial-robustness-toolbox==0.1)\n"
     ]
    },
    {
     "name": "stdout",
     "output_type": "stream",
     "text": [
      "Installing collected packages: adversarial-robustness-toolbox\n",
      "  Running setup.py install for adversarial-robustness-toolbox: started\n",
      "    Running setup.py install for adversarial-robustness-toolbox: finished with status 'done'\n",
      "Successfully installed adversarial-robustness-toolbox-0.1\n",
      "You are using pip version 9.0.1, however version 10.0.1 is available.\n",
      "You should consider upgrading via the 'pip install --upgrade pip' command.\n",
      "2018-06-09 01:40:48.673881: I tensorflow/core/platform/cpu_feature_guard.cc:137] Your CPU supports instructions that this TensorFlow binary was not compiled to use: SSE4.1 SSE4.2 AVX AVX2 FMA\n",
      "/usr/local/lib/python3.5/dist-packages/h5py/__init__.py:36: FutureWarning: Conversion of the second argument of issubdtype from `float` to `np.floating` is deprecated. In future, it will be treated as `np.float64 == np.dtype(float).type`.\n",
      "  from ._conv import register_converters as _register_converters\n",
      "Using TensorFlow backend.\n",
      "--epsilon\n",
      "--data\n",
      "--networkdefinition\n",
      "--weights\n",
      "dataset :  /job/robustnesscheck-data-136f29a1-9735-4f6c-8901-ef9426f2aeef/mnist.npz\n",
      "network definition :  /job/robustnesscheck-data-136f29a1-9735-4f6c-8901-ef9426f2aeef/keras_original_model.json\n",
      "weights :  /job/robustnesscheck-data-136f29a1-9735-4f6c-8901-ef9426f2aeef/keras_original_model.hdf5\n",
      "metrics :  {'average perturbation': 46.828266978263855, 'model accuracy on adversarial samples': 54.120000000000005, 'model accuracy on test data:': 98.04, 'reduction in confidence': 29.92871403694153}\n",
      "adversarial samples saved to :  /job/robustnesscheck-results-136f29a1-9735-4f6c-8901-ef9426f2aeef/adv_samples\n",
      "Training process finished. Exit code: 0\n",
      "\n"
     ]
    }
   ],
   "source": [
    "# Monitor the training logs\n",
    "\n",
    "if \"Model ID\" in out[1]:\n",
    "    model_id = out.fields()[1][-1]\n",
    "    !{ffdl} logs --follow {model_id}"
   ]
  },
  {
   "cell_type": "markdown",
   "metadata": {},
   "source": [
    "The above training job will create a report (`report.txt`). The file is available in COS (bucket = `robustnesscheck_result_bucket`) "
   ]
  },
  {
   "cell_type": "code",
   "execution_count": 45,
   "metadata": {},
   "outputs": [
    {
     "name": "stdout",
     "output_type": "stream",
     "text": [
      "{\n",
      "    \"average perturbation\": 46.828266978263855,\n",
      "    \"model accuracy on adversarial samples\": 54.120000000000005,\n",
      "    \"model accuracy on test data:\": 98.04,\n",
      "    \"reduction in confidence\": 29.92871403694153\n",
      "}\n"
     ]
    }
   ],
   "source": [
    "report_file = os.path.join(model_id, \"report.txt\")\n",
    "bucket_obj = cos.Bucket(robustnesscheck_result_bucket)\n",
    "\n",
    "bucket_obj.download_file(report_file, \"report.txt\")\n",
    "\n",
    "with open('report.txt', \"r\") as report:\n",
    "    result = json.load(report)\n",
    "    \n",
    "print(json.dumps(result, indent=4, sort_keys=True))"
   ]
  },
  {
   "cell_type": "markdown",
   "metadata": {},
   "source": [
    "Download the adversarial samples that were stored to COS using the below command"
   ]
  },
  {
   "cell_type": "code",
   "execution_count": 46,
   "metadata": {
    "scrolled": true
   },
   "outputs": [
    {
     "name": "stdout",
     "output_type": "stream",
     "text": [
      "Downloading robustnesscheck-results-136f29a1-9735-4f6c-8901-ef9426f2aeef/training-e1S2uaIig/adv_samples.npz ...\n",
      "Downloaded: adv_samples_from_cos.npz\n"
     ]
    }
   ],
   "source": [
    "samples_file = os.path.join(model_id, \"adv_samples.npz\")\n",
    "print('Downloading {}/{} ...'.format(robustnesscheck_result_bucket, samples_file))\n",
    "bucket_obj = cos.Bucket(robustnesscheck_result_bucket)\n",
    "bucket_obj.download_file(samples_file, \"adv_samples_from_cos.npz\")\n",
    "print('Downloaded:', \"adv_samples_from_cos.npz\")"
   ]
  },
  {
   "cell_type": "markdown",
   "metadata": {},
   "source": [
    "Compare original with adversarial images"
   ]
  },
  {
   "cell_type": "code",
   "execution_count": 47,
   "metadata": {},
   "outputs": [
    {
     "data": {
      "image/png": "[encoded data removed]",
      "text/plain": [
       "<Figure size 1152x216 with 20 Axes>"
      ]
     },
     "metadata": {},
     "output_type": "display_data"
    }
   ],
   "source": [
    "x_adv_samples = np.load(\"adv_samples_from_cos.npz\")\n",
    "x_original    = x_adv_samples[\"x_original\"]\n",
    "x_adversarial = x_adv_samples[\"x_adversarial\"]\n",
    "x_orig = (x_original    * 255).astype('int')[:, :, :, 0]\n",
    "x_adv  = (x_adversarial * 255).astype('int')[:, :, :, 0]\n",
    "\n",
    "cols   = 10\n",
    "rows   = 2\n",
    "images = list(x_orig[:10]) + list(x_adv[:10])\n",
    "fig    = plt.figure(figsize=(16, 3))\n",
    "\n",
    "for i in range(0, len(images)):\n",
    "    fig.add_subplot(rows, cols, i+1)\n",
    "    plt.imshow(images[i], cmap='gray')\n",
    "\n",
    "plt.show()"
   ]
  },
  {
   "cell_type": "markdown",
   "metadata": {},
   "source": [
    "## 5. Summary and next steps\n",
    "\n",
    "This notebook only looked at one adversarial robustness technique (FGM). ART contains many more attacks, metrics and defenses to help you understand and improve your model's robustness.  You can use this notebook as a template to experiment with all aspects of ART. "
   ]
  },
  {
   "cell_type": "markdown",
   "metadata": {},
   "source": [
    "## Authors\n",
    "\n",
    "\n",
    "- **Anupama Murthi**  (<anupama.murthi@ibm.com>)\n",
    "\n",
    "- **Vijay Arya**  (<vijay.arya@in.ibm.com>)"
   ]
  },
  {
   "cell_type": "markdown",
   "metadata": {},
   "source": [
    "<div style=\"background:#F5F7FA; height:110px; padding: 2em; font-size:14px;\">\n",
    "<span style=\"font-size:18px;color:#152935;\">Love this notebook? </span>\n",
    "<span style=\"font-size:15px;color:#152935;float:right;margin-right:40px;\">Don't have an account yet?</span><br>\n",
    "<span style=\"color:#5A6872;\">Share it with your colleagues and help them discover the power of Watson Studio!</span>\n",
    "<span style=\"border: 1px solid #3d70b2;padding:8px;float:right;margin-right:40px; color:#3d70b2;\"><a href=\"https://ibm.co/wsnotebooks\" target=\"_blank\" style=\"color: #3d70b2;text-decoration: none;\">Sign Up</a></span><br>\n",
    "</div>"
   ]
  },
  {
   "cell_type": "markdown",
   "metadata": {},
   "source": [
    "Copyright © 2017, 2018 IBM. This notebook and its source code are released under the terms of the MIT License."
   ]
  }
 ],
 "metadata": {
  "anaconda-cloud": {},
  "kernelspec": {
   "display_name": "Python 3",
   "language": "python",
   "name": "python3"
  },
  "language_info": {
   "codemirror_mode": {
    "name": "ipython",
    "version": 3
   },
   "file_extension": ".py",
   "mimetype": "text/x-python",
   "name": "python",
   "nbconvert_exporter": "python",
   "pygments_lexer": "ipython3",
   "version": "3.6.5"
  }
 },
 "nbformat": 4,
 "nbformat_minor": 1
}
